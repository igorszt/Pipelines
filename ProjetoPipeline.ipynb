{
  "nbformat": 4,
  "nbformat_minor": 0,
  "metadata": {
    "colab": {
      "name": "ProjetoPipeline.ipynb",
      "provenance": [],
      "collapsed_sections": [],
      "authorship_tag": "ABX9TyM9+Rc8yA3zpHbXFAswsQVs",
      "include_colab_link": true
    },
    "kernelspec": {
      "name": "python3",
      "display_name": "Python 3"
    },
    "language_info": {
      "name": "python"
    }
  },
  "cells": [
    {
      "cell_type": "markdown",
      "metadata": {
        "id": "view-in-github",
        "colab_type": "text"
      },
      "source": [
        "<a href=\"https://colab.research.google.com/github/igorszt/Pipelines/blob/main/ProjetoPipeline.ipynb\" target=\"_parent\"><img src=\"https://colab.research.google.com/assets/colab-badge.svg\" alt=\"Open In Colab\"/></a>"
      ]
    },
    {
      "cell_type": "code",
      "execution_count": 1,
      "metadata": {
        "colab": {
          "base_uri": "https://localhost:8080/"
        },
        "id": "TENfq4747UoN",
        "outputId": "78ec23ce-9f82-4ebf-f9c5-6aab1c341098"
      },
      "outputs": [
        {
          "output_type": "stream",
          "name": "stdout",
          "text": [
            "Looking in indexes: https://pypi.org/simple, https://us-python.pkg.dev/colab-wheels/public/simple/\n",
            "Collecting category_encoders\n",
            "  Downloading category_encoders-2.4.1-py2.py3-none-any.whl (80 kB)\n",
            "\u001b[K     |████████████████████████████████| 80 kB 4.0 MB/s \n",
            "\u001b[?25hRequirement already satisfied: patsy>=0.5.1 in /usr/local/lib/python3.7/dist-packages (from category_encoders) (0.5.2)\n",
            "Requirement already satisfied: scikit-learn>=0.20.0 in /usr/local/lib/python3.7/dist-packages (from category_encoders) (1.0.2)\n",
            "Requirement already satisfied: scipy>=1.0.0 in /usr/local/lib/python3.7/dist-packages (from category_encoders) (1.4.1)\n",
            "Requirement already satisfied: numpy>=1.14.0 in /usr/local/lib/python3.7/dist-packages (from category_encoders) (1.21.6)\n",
            "Requirement already satisfied: pandas>=0.21.1 in /usr/local/lib/python3.7/dist-packages (from category_encoders) (1.3.5)\n",
            "Requirement already satisfied: statsmodels>=0.9.0 in /usr/local/lib/python3.7/dist-packages (from category_encoders) (0.10.2)\n",
            "Requirement already satisfied: python-dateutil>=2.7.3 in /usr/local/lib/python3.7/dist-packages (from pandas>=0.21.1->category_encoders) (2.8.2)\n",
            "Requirement already satisfied: pytz>=2017.3 in /usr/local/lib/python3.7/dist-packages (from pandas>=0.21.1->category_encoders) (2022.1)\n",
            "Requirement already satisfied: six in /usr/local/lib/python3.7/dist-packages (from patsy>=0.5.1->category_encoders) (1.15.0)\n",
            "Requirement already satisfied: threadpoolctl>=2.0.0 in /usr/local/lib/python3.7/dist-packages (from scikit-learn>=0.20.0->category_encoders) (3.1.0)\n",
            "Requirement already satisfied: joblib>=0.11 in /usr/local/lib/python3.7/dist-packages (from scikit-learn>=0.20.0->category_encoders) (1.1.0)\n",
            "Installing collected packages: category-encoders\n",
            "Successfully installed category-encoders-2.4.1\n"
          ]
        }
      ],
      "source": [
        "!pip install category_encoders"
      ]
    },
    {
      "cell_type": "code",
      "source": [
        "from sklearn.pipeline import Pipeline\n",
        "from sklearn import datasets\n",
        "from sklearn.model_selection import train_test_split\n",
        "from category_encoders import OneHotEncoder\n",
        "from sklearn.preprocessing import StandardScaler\n",
        "from sklearn.preprocessing import MinMaxScaler\n",
        "from sklearn import tree\n",
        "import pandas as pd"
      ],
      "metadata": {
        "colab": {
          "base_uri": "https://localhost:8080/"
        },
        "id": "L19TbFHA73sw",
        "outputId": "0574e676-2440-49e7-cc2b-da1c0b66a4a0"
      },
      "execution_count": 2,
      "outputs": [
        {
          "output_type": "stream",
          "name": "stderr",
          "text": [
            "/usr/local/lib/python3.7/dist-packages/statsmodels/tools/_testing.py:19: FutureWarning: pandas.util.testing is deprecated. Use the functions in the public API at pandas.testing instead.\n",
            "  import pandas.util.testing as tm\n"
          ]
        }
      ]
    },
    {
      "cell_type": "markdown",
      "source": [
        "Lendo dataset"
      ],
      "metadata": {
        "id": "EL91SV14_66v"
      }
    },
    {
      "cell_type": "code",
      "source": [
        "df = pd.read_csv('adult.csv')"
      ],
      "metadata": {
        "id": "Q9XN0gTw-JBH"
      },
      "execution_count": 3,
      "outputs": []
    },
    {
      "cell_type": "code",
      "source": [
        "df.head()"
      ],
      "metadata": {
        "colab": {
          "base_uri": "https://localhost:8080/",
          "height": 444
        },
        "id": "Dvs6vHyj_irT",
        "outputId": "7d08220d-7b08-460d-d360-cd46bbce52d0"
      },
      "execution_count": 4,
      "outputs": [
        {
          "output_type": "execute_result",
          "data": {
            "text/plain": [
              "   age  workclass  fnlwgt     education  educational-num      marital-status  \\\n",
              "0   25    Private  226802          11th                7       Never-married   \n",
              "1   38    Private   89814       HS-grad                9  Married-civ-spouse   \n",
              "2   28  Local-gov  336951    Assoc-acdm               12  Married-civ-spouse   \n",
              "3   44    Private  160323  Some-college               10  Married-civ-spouse   \n",
              "4   18          ?  103497  Some-college               10       Never-married   \n",
              "\n",
              "          occupation relationship   race  gender  capital-gain  capital-loss  \\\n",
              "0  Machine-op-inspct    Own-child  Black    Male             0             0   \n",
              "1    Farming-fishing      Husband  White    Male             0             0   \n",
              "2    Protective-serv      Husband  White    Male             0             0   \n",
              "3  Machine-op-inspct      Husband  Black    Male          7688             0   \n",
              "4                  ?    Own-child  White  Female             0             0   \n",
              "\n",
              "   hours-per-week native-country income  \n",
              "0              40  United-States  <=50K  \n",
              "1              50  United-States  <=50K  \n",
              "2              40  United-States   >50K  \n",
              "3              40  United-States   >50K  \n",
              "4              30  United-States  <=50K  "
            ],
            "text/html": [
              "\n",
              "  <div id=\"df-6635215f-3298-4f6e-9a42-01cdd5b1b708\">\n",
              "    <div class=\"colab-df-container\">\n",
              "      <div>\n",
              "<style scoped>\n",
              "    .dataframe tbody tr th:only-of-type {\n",
              "        vertical-align: middle;\n",
              "    }\n",
              "\n",
              "    .dataframe tbody tr th {\n",
              "        vertical-align: top;\n",
              "    }\n",
              "\n",
              "    .dataframe thead th {\n",
              "        text-align: right;\n",
              "    }\n",
              "</style>\n",
              "<table border=\"1\" class=\"dataframe\">\n",
              "  <thead>\n",
              "    <tr style=\"text-align: right;\">\n",
              "      <th></th>\n",
              "      <th>age</th>\n",
              "      <th>workclass</th>\n",
              "      <th>fnlwgt</th>\n",
              "      <th>education</th>\n",
              "      <th>educational-num</th>\n",
              "      <th>marital-status</th>\n",
              "      <th>occupation</th>\n",
              "      <th>relationship</th>\n",
              "      <th>race</th>\n",
              "      <th>gender</th>\n",
              "      <th>capital-gain</th>\n",
              "      <th>capital-loss</th>\n",
              "      <th>hours-per-week</th>\n",
              "      <th>native-country</th>\n",
              "      <th>income</th>\n",
              "    </tr>\n",
              "  </thead>\n",
              "  <tbody>\n",
              "    <tr>\n",
              "      <th>0</th>\n",
              "      <td>25</td>\n",
              "      <td>Private</td>\n",
              "      <td>226802</td>\n",
              "      <td>11th</td>\n",
              "      <td>7</td>\n",
              "      <td>Never-married</td>\n",
              "      <td>Machine-op-inspct</td>\n",
              "      <td>Own-child</td>\n",
              "      <td>Black</td>\n",
              "      <td>Male</td>\n",
              "      <td>0</td>\n",
              "      <td>0</td>\n",
              "      <td>40</td>\n",
              "      <td>United-States</td>\n",
              "      <td>&lt;=50K</td>\n",
              "    </tr>\n",
              "    <tr>\n",
              "      <th>1</th>\n",
              "      <td>38</td>\n",
              "      <td>Private</td>\n",
              "      <td>89814</td>\n",
              "      <td>HS-grad</td>\n",
              "      <td>9</td>\n",
              "      <td>Married-civ-spouse</td>\n",
              "      <td>Farming-fishing</td>\n",
              "      <td>Husband</td>\n",
              "      <td>White</td>\n",
              "      <td>Male</td>\n",
              "      <td>0</td>\n",
              "      <td>0</td>\n",
              "      <td>50</td>\n",
              "      <td>United-States</td>\n",
              "      <td>&lt;=50K</td>\n",
              "    </tr>\n",
              "    <tr>\n",
              "      <th>2</th>\n",
              "      <td>28</td>\n",
              "      <td>Local-gov</td>\n",
              "      <td>336951</td>\n",
              "      <td>Assoc-acdm</td>\n",
              "      <td>12</td>\n",
              "      <td>Married-civ-spouse</td>\n",
              "      <td>Protective-serv</td>\n",
              "      <td>Husband</td>\n",
              "      <td>White</td>\n",
              "      <td>Male</td>\n",
              "      <td>0</td>\n",
              "      <td>0</td>\n",
              "      <td>40</td>\n",
              "      <td>United-States</td>\n",
              "      <td>&gt;50K</td>\n",
              "    </tr>\n",
              "    <tr>\n",
              "      <th>3</th>\n",
              "      <td>44</td>\n",
              "      <td>Private</td>\n",
              "      <td>160323</td>\n",
              "      <td>Some-college</td>\n",
              "      <td>10</td>\n",
              "      <td>Married-civ-spouse</td>\n",
              "      <td>Machine-op-inspct</td>\n",
              "      <td>Husband</td>\n",
              "      <td>Black</td>\n",
              "      <td>Male</td>\n",
              "      <td>7688</td>\n",
              "      <td>0</td>\n",
              "      <td>40</td>\n",
              "      <td>United-States</td>\n",
              "      <td>&gt;50K</td>\n",
              "    </tr>\n",
              "    <tr>\n",
              "      <th>4</th>\n",
              "      <td>18</td>\n",
              "      <td>?</td>\n",
              "      <td>103497</td>\n",
              "      <td>Some-college</td>\n",
              "      <td>10</td>\n",
              "      <td>Never-married</td>\n",
              "      <td>?</td>\n",
              "      <td>Own-child</td>\n",
              "      <td>White</td>\n",
              "      <td>Female</td>\n",
              "      <td>0</td>\n",
              "      <td>0</td>\n",
              "      <td>30</td>\n",
              "      <td>United-States</td>\n",
              "      <td>&lt;=50K</td>\n",
              "    </tr>\n",
              "  </tbody>\n",
              "</table>\n",
              "</div>\n",
              "      <button class=\"colab-df-convert\" onclick=\"convertToInteractive('df-6635215f-3298-4f6e-9a42-01cdd5b1b708')\"\n",
              "              title=\"Convert this dataframe to an interactive table.\"\n",
              "              style=\"display:none;\">\n",
              "        \n",
              "  <svg xmlns=\"http://www.w3.org/2000/svg\" height=\"24px\"viewBox=\"0 0 24 24\"\n",
              "       width=\"24px\">\n",
              "    <path d=\"M0 0h24v24H0V0z\" fill=\"none\"/>\n",
              "    <path d=\"M18.56 5.44l.94 2.06.94-2.06 2.06-.94-2.06-.94-.94-2.06-.94 2.06-2.06.94zm-11 1L8.5 8.5l.94-2.06 2.06-.94-2.06-.94L8.5 2.5l-.94 2.06-2.06.94zm10 10l.94 2.06.94-2.06 2.06-.94-2.06-.94-.94-2.06-.94 2.06-2.06.94z\"/><path d=\"M17.41 7.96l-1.37-1.37c-.4-.4-.92-.59-1.43-.59-.52 0-1.04.2-1.43.59L10.3 9.45l-7.72 7.72c-.78.78-.78 2.05 0 2.83L4 21.41c.39.39.9.59 1.41.59.51 0 1.02-.2 1.41-.59l7.78-7.78 2.81-2.81c.8-.78.8-2.07 0-2.86zM5.41 20L4 18.59l7.72-7.72 1.47 1.35L5.41 20z\"/>\n",
              "  </svg>\n",
              "      </button>\n",
              "      \n",
              "  <style>\n",
              "    .colab-df-container {\n",
              "      display:flex;\n",
              "      flex-wrap:wrap;\n",
              "      gap: 12px;\n",
              "    }\n",
              "\n",
              "    .colab-df-convert {\n",
              "      background-color: #E8F0FE;\n",
              "      border: none;\n",
              "      border-radius: 50%;\n",
              "      cursor: pointer;\n",
              "      display: none;\n",
              "      fill: #1967D2;\n",
              "      height: 32px;\n",
              "      padding: 0 0 0 0;\n",
              "      width: 32px;\n",
              "    }\n",
              "\n",
              "    .colab-df-convert:hover {\n",
              "      background-color: #E2EBFA;\n",
              "      box-shadow: 0px 1px 2px rgba(60, 64, 67, 0.3), 0px 1px 3px 1px rgba(60, 64, 67, 0.15);\n",
              "      fill: #174EA6;\n",
              "    }\n",
              "\n",
              "    [theme=dark] .colab-df-convert {\n",
              "      background-color: #3B4455;\n",
              "      fill: #D2E3FC;\n",
              "    }\n",
              "\n",
              "    [theme=dark] .colab-df-convert:hover {\n",
              "      background-color: #434B5C;\n",
              "      box-shadow: 0px 1px 3px 1px rgba(0, 0, 0, 0.15);\n",
              "      filter: drop-shadow(0px 1px 2px rgba(0, 0, 0, 0.3));\n",
              "      fill: #FFFFFF;\n",
              "    }\n",
              "  </style>\n",
              "\n",
              "      <script>\n",
              "        const buttonEl =\n",
              "          document.querySelector('#df-6635215f-3298-4f6e-9a42-01cdd5b1b708 button.colab-df-convert');\n",
              "        buttonEl.style.display =\n",
              "          google.colab.kernel.accessAllowed ? 'block' : 'none';\n",
              "\n",
              "        async function convertToInteractive(key) {\n",
              "          const element = document.querySelector('#df-6635215f-3298-4f6e-9a42-01cdd5b1b708');\n",
              "          const dataTable =\n",
              "            await google.colab.kernel.invokeFunction('convertToInteractive',\n",
              "                                                     [key], {});\n",
              "          if (!dataTable) return;\n",
              "\n",
              "          const docLinkHtml = 'Like what you see? Visit the ' +\n",
              "            '<a target=\"_blank\" href=https://colab.research.google.com/notebooks/data_table.ipynb>data table notebook</a>'\n",
              "            + ' to learn more about interactive tables.';\n",
              "          element.innerHTML = '';\n",
              "          dataTable['output_type'] = 'display_data';\n",
              "          await google.colab.output.renderOutput(dataTable, element);\n",
              "          const docLink = document.createElement('div');\n",
              "          docLink.innerHTML = docLinkHtml;\n",
              "          element.appendChild(docLink);\n",
              "        }\n",
              "      </script>\n",
              "    </div>\n",
              "  </div>\n",
              "  "
            ]
          },
          "metadata": {},
          "execution_count": 4
        }
      ]
    },
    {
      "cell_type": "code",
      "source": [
        "df.isnull().sum()"
      ],
      "metadata": {
        "colab": {
          "base_uri": "https://localhost:8080/"
        },
        "id": "7lIebdB1_m87",
        "outputId": "e9fe7cdb-53b5-4d52-b8ba-f31bf3558b1a"
      },
      "execution_count": 5,
      "outputs": [
        {
          "output_type": "execute_result",
          "data": {
            "text/plain": [
              "age                0\n",
              "workclass          0\n",
              "fnlwgt             0\n",
              "education          0\n",
              "educational-num    0\n",
              "marital-status     0\n",
              "occupation         0\n",
              "relationship       0\n",
              "race               0\n",
              "gender             0\n",
              "capital-gain       0\n",
              "capital-loss       0\n",
              "hours-per-week     0\n",
              "native-country     0\n",
              "income             0\n",
              "dtype: int64"
            ]
          },
          "metadata": {},
          "execution_count": 5
        }
      ]
    },
    {
      "cell_type": "code",
      "source": [
        "df.dtypes"
      ],
      "metadata": {
        "colab": {
          "base_uri": "https://localhost:8080/"
        },
        "id": "I9_Rdmh9LmzF",
        "outputId": "2c63dbfd-8b87-4efb-f372-1972774cba8d"
      },
      "execution_count": 6,
      "outputs": [
        {
          "output_type": "execute_result",
          "data": {
            "text/plain": [
              "age                 int64\n",
              "workclass          object\n",
              "fnlwgt              int64\n",
              "education          object\n",
              "educational-num     int64\n",
              "marital-status     object\n",
              "occupation         object\n",
              "relationship       object\n",
              "race               object\n",
              "gender             object\n",
              "capital-gain        int64\n",
              "capital-loss        int64\n",
              "hours-per-week      int64\n",
              "native-country     object\n",
              "income             object\n",
              "dtype: object"
            ]
          },
          "metadata": {},
          "execution_count": 6
        }
      ]
    },
    {
      "cell_type": "markdown",
      "source": [
        "Removendo coluna desnecessária"
      ],
      "metadata": {
        "id": "iuLpfGjDBF7v"
      }
    },
    {
      "cell_type": "code",
      "source": [
        "#coluna education é desnecessária, visto que a coluna education_num já existe\n",
        "df.drop(['education'], axis=1,inplace=True)"
      ],
      "metadata": {
        "id": "uyUflf-EBHlr"
      },
      "execution_count": 7,
      "outputs": []
    },
    {
      "cell_type": "markdown",
      "source": [
        "Separa dados e classes"
      ],
      "metadata": {
        "id": "05jki5RdB6n_"
      }
    },
    {
      "cell_type": "code",
      "source": [
        "x = df.drop(['income'],axis=1,inplace=False)\n",
        "y = df['income']"
      ],
      "metadata": {
        "id": "1KyqefB5BZ2w"
      },
      "execution_count": 8,
      "outputs": []
    },
    {
      "cell_type": "markdown",
      "source": [
        "Separa dados de treino e teste"
      ],
      "metadata": {
        "id": "9E9HuNjECOje"
      }
    },
    {
      "cell_type": "code",
      "source": [
        "x_train, x_test, y_train, y_teste = train_test_split(x,y)"
      ],
      "metadata": {
        "id": "WOaWpjytCD4u"
      },
      "execution_count": 9,
      "outputs": []
    },
    {
      "cell_type": "markdown",
      "source": [
        "Seleciona colunas do tipo object"
      ],
      "metadata": {
        "id": "rt0M3kzELqPE"
      }
    },
    {
      "cell_type": "code",
      "source": [
        "df.select_dtypes(include = 'object')"
      ],
      "metadata": {
        "colab": {
          "base_uri": "https://localhost:8080/",
          "height": 424
        },
        "id": "qP7DvK-LKz3c",
        "outputId": "70b044ea-779f-4cd6-b5e6-276d80e38ce7"
      },
      "execution_count": 10,
      "outputs": [
        {
          "output_type": "execute_result",
          "data": {
            "text/plain": [
              "          workclass      marital-status         occupation relationship  \\\n",
              "0           Private       Never-married  Machine-op-inspct    Own-child   \n",
              "1           Private  Married-civ-spouse    Farming-fishing      Husband   \n",
              "2         Local-gov  Married-civ-spouse    Protective-serv      Husband   \n",
              "3           Private  Married-civ-spouse  Machine-op-inspct      Husband   \n",
              "4                 ?       Never-married                  ?    Own-child   \n",
              "...             ...                 ...                ...          ...   \n",
              "48837       Private  Married-civ-spouse       Tech-support         Wife   \n",
              "48838       Private  Married-civ-spouse  Machine-op-inspct      Husband   \n",
              "48839       Private             Widowed       Adm-clerical    Unmarried   \n",
              "48840       Private       Never-married       Adm-clerical    Own-child   \n",
              "48841  Self-emp-inc  Married-civ-spouse    Exec-managerial         Wife   \n",
              "\n",
              "        race  gender native-country income  \n",
              "0      Black    Male  United-States  <=50K  \n",
              "1      White    Male  United-States  <=50K  \n",
              "2      White    Male  United-States   >50K  \n",
              "3      Black    Male  United-States   >50K  \n",
              "4      White  Female  United-States  <=50K  \n",
              "...      ...     ...            ...    ...  \n",
              "48837  White  Female  United-States  <=50K  \n",
              "48838  White    Male  United-States   >50K  \n",
              "48839  White  Female  United-States  <=50K  \n",
              "48840  White    Male  United-States  <=50K  \n",
              "48841  White  Female  United-States   >50K  \n",
              "\n",
              "[48842 rows x 8 columns]"
            ],
            "text/html": [
              "\n",
              "  <div id=\"df-d108073d-c661-47b6-997d-11c90e758b53\">\n",
              "    <div class=\"colab-df-container\">\n",
              "      <div>\n",
              "<style scoped>\n",
              "    .dataframe tbody tr th:only-of-type {\n",
              "        vertical-align: middle;\n",
              "    }\n",
              "\n",
              "    .dataframe tbody tr th {\n",
              "        vertical-align: top;\n",
              "    }\n",
              "\n",
              "    .dataframe thead th {\n",
              "        text-align: right;\n",
              "    }\n",
              "</style>\n",
              "<table border=\"1\" class=\"dataframe\">\n",
              "  <thead>\n",
              "    <tr style=\"text-align: right;\">\n",
              "      <th></th>\n",
              "      <th>workclass</th>\n",
              "      <th>marital-status</th>\n",
              "      <th>occupation</th>\n",
              "      <th>relationship</th>\n",
              "      <th>race</th>\n",
              "      <th>gender</th>\n",
              "      <th>native-country</th>\n",
              "      <th>income</th>\n",
              "    </tr>\n",
              "  </thead>\n",
              "  <tbody>\n",
              "    <tr>\n",
              "      <th>0</th>\n",
              "      <td>Private</td>\n",
              "      <td>Never-married</td>\n",
              "      <td>Machine-op-inspct</td>\n",
              "      <td>Own-child</td>\n",
              "      <td>Black</td>\n",
              "      <td>Male</td>\n",
              "      <td>United-States</td>\n",
              "      <td>&lt;=50K</td>\n",
              "    </tr>\n",
              "    <tr>\n",
              "      <th>1</th>\n",
              "      <td>Private</td>\n",
              "      <td>Married-civ-spouse</td>\n",
              "      <td>Farming-fishing</td>\n",
              "      <td>Husband</td>\n",
              "      <td>White</td>\n",
              "      <td>Male</td>\n",
              "      <td>United-States</td>\n",
              "      <td>&lt;=50K</td>\n",
              "    </tr>\n",
              "    <tr>\n",
              "      <th>2</th>\n",
              "      <td>Local-gov</td>\n",
              "      <td>Married-civ-spouse</td>\n",
              "      <td>Protective-serv</td>\n",
              "      <td>Husband</td>\n",
              "      <td>White</td>\n",
              "      <td>Male</td>\n",
              "      <td>United-States</td>\n",
              "      <td>&gt;50K</td>\n",
              "    </tr>\n",
              "    <tr>\n",
              "      <th>3</th>\n",
              "      <td>Private</td>\n",
              "      <td>Married-civ-spouse</td>\n",
              "      <td>Machine-op-inspct</td>\n",
              "      <td>Husband</td>\n",
              "      <td>Black</td>\n",
              "      <td>Male</td>\n",
              "      <td>United-States</td>\n",
              "      <td>&gt;50K</td>\n",
              "    </tr>\n",
              "    <tr>\n",
              "      <th>4</th>\n",
              "      <td>?</td>\n",
              "      <td>Never-married</td>\n",
              "      <td>?</td>\n",
              "      <td>Own-child</td>\n",
              "      <td>White</td>\n",
              "      <td>Female</td>\n",
              "      <td>United-States</td>\n",
              "      <td>&lt;=50K</td>\n",
              "    </tr>\n",
              "    <tr>\n",
              "      <th>...</th>\n",
              "      <td>...</td>\n",
              "      <td>...</td>\n",
              "      <td>...</td>\n",
              "      <td>...</td>\n",
              "      <td>...</td>\n",
              "      <td>...</td>\n",
              "      <td>...</td>\n",
              "      <td>...</td>\n",
              "    </tr>\n",
              "    <tr>\n",
              "      <th>48837</th>\n",
              "      <td>Private</td>\n",
              "      <td>Married-civ-spouse</td>\n",
              "      <td>Tech-support</td>\n",
              "      <td>Wife</td>\n",
              "      <td>White</td>\n",
              "      <td>Female</td>\n",
              "      <td>United-States</td>\n",
              "      <td>&lt;=50K</td>\n",
              "    </tr>\n",
              "    <tr>\n",
              "      <th>48838</th>\n",
              "      <td>Private</td>\n",
              "      <td>Married-civ-spouse</td>\n",
              "      <td>Machine-op-inspct</td>\n",
              "      <td>Husband</td>\n",
              "      <td>White</td>\n",
              "      <td>Male</td>\n",
              "      <td>United-States</td>\n",
              "      <td>&gt;50K</td>\n",
              "    </tr>\n",
              "    <tr>\n",
              "      <th>48839</th>\n",
              "      <td>Private</td>\n",
              "      <td>Widowed</td>\n",
              "      <td>Adm-clerical</td>\n",
              "      <td>Unmarried</td>\n",
              "      <td>White</td>\n",
              "      <td>Female</td>\n",
              "      <td>United-States</td>\n",
              "      <td>&lt;=50K</td>\n",
              "    </tr>\n",
              "    <tr>\n",
              "      <th>48840</th>\n",
              "      <td>Private</td>\n",
              "      <td>Never-married</td>\n",
              "      <td>Adm-clerical</td>\n",
              "      <td>Own-child</td>\n",
              "      <td>White</td>\n",
              "      <td>Male</td>\n",
              "      <td>United-States</td>\n",
              "      <td>&lt;=50K</td>\n",
              "    </tr>\n",
              "    <tr>\n",
              "      <th>48841</th>\n",
              "      <td>Self-emp-inc</td>\n",
              "      <td>Married-civ-spouse</td>\n",
              "      <td>Exec-managerial</td>\n",
              "      <td>Wife</td>\n",
              "      <td>White</td>\n",
              "      <td>Female</td>\n",
              "      <td>United-States</td>\n",
              "      <td>&gt;50K</td>\n",
              "    </tr>\n",
              "  </tbody>\n",
              "</table>\n",
              "<p>48842 rows × 8 columns</p>\n",
              "</div>\n",
              "      <button class=\"colab-df-convert\" onclick=\"convertToInteractive('df-d108073d-c661-47b6-997d-11c90e758b53')\"\n",
              "              title=\"Convert this dataframe to an interactive table.\"\n",
              "              style=\"display:none;\">\n",
              "        \n",
              "  <svg xmlns=\"http://www.w3.org/2000/svg\" height=\"24px\"viewBox=\"0 0 24 24\"\n",
              "       width=\"24px\">\n",
              "    <path d=\"M0 0h24v24H0V0z\" fill=\"none\"/>\n",
              "    <path d=\"M18.56 5.44l.94 2.06.94-2.06 2.06-.94-2.06-.94-.94-2.06-.94 2.06-2.06.94zm-11 1L8.5 8.5l.94-2.06 2.06-.94-2.06-.94L8.5 2.5l-.94 2.06-2.06.94zm10 10l.94 2.06.94-2.06 2.06-.94-2.06-.94-.94-2.06-.94 2.06-2.06.94z\"/><path d=\"M17.41 7.96l-1.37-1.37c-.4-.4-.92-.59-1.43-.59-.52 0-1.04.2-1.43.59L10.3 9.45l-7.72 7.72c-.78.78-.78 2.05 0 2.83L4 21.41c.39.39.9.59 1.41.59.51 0 1.02-.2 1.41-.59l7.78-7.78 2.81-2.81c.8-.78.8-2.07 0-2.86zM5.41 20L4 18.59l7.72-7.72 1.47 1.35L5.41 20z\"/>\n",
              "  </svg>\n",
              "      </button>\n",
              "      \n",
              "  <style>\n",
              "    .colab-df-container {\n",
              "      display:flex;\n",
              "      flex-wrap:wrap;\n",
              "      gap: 12px;\n",
              "    }\n",
              "\n",
              "    .colab-df-convert {\n",
              "      background-color: #E8F0FE;\n",
              "      border: none;\n",
              "      border-radius: 50%;\n",
              "      cursor: pointer;\n",
              "      display: none;\n",
              "      fill: #1967D2;\n",
              "      height: 32px;\n",
              "      padding: 0 0 0 0;\n",
              "      width: 32px;\n",
              "    }\n",
              "\n",
              "    .colab-df-convert:hover {\n",
              "      background-color: #E2EBFA;\n",
              "      box-shadow: 0px 1px 2px rgba(60, 64, 67, 0.3), 0px 1px 3px 1px rgba(60, 64, 67, 0.15);\n",
              "      fill: #174EA6;\n",
              "    }\n",
              "\n",
              "    [theme=dark] .colab-df-convert {\n",
              "      background-color: #3B4455;\n",
              "      fill: #D2E3FC;\n",
              "    }\n",
              "\n",
              "    [theme=dark] .colab-df-convert:hover {\n",
              "      background-color: #434B5C;\n",
              "      box-shadow: 0px 1px 3px 1px rgba(0, 0, 0, 0.15);\n",
              "      filter: drop-shadow(0px 1px 2px rgba(0, 0, 0, 0.3));\n",
              "      fill: #FFFFFF;\n",
              "    }\n",
              "  </style>\n",
              "\n",
              "      <script>\n",
              "        const buttonEl =\n",
              "          document.querySelector('#df-d108073d-c661-47b6-997d-11c90e758b53 button.colab-df-convert');\n",
              "        buttonEl.style.display =\n",
              "          google.colab.kernel.accessAllowed ? 'block' : 'none';\n",
              "\n",
              "        async function convertToInteractive(key) {\n",
              "          const element = document.querySelector('#df-d108073d-c661-47b6-997d-11c90e758b53');\n",
              "          const dataTable =\n",
              "            await google.colab.kernel.invokeFunction('convertToInteractive',\n",
              "                                                     [key], {});\n",
              "          if (!dataTable) return;\n",
              "\n",
              "          const docLinkHtml = 'Like what you see? Visit the ' +\n",
              "            '<a target=\"_blank\" href=https://colab.research.google.com/notebooks/data_table.ipynb>data table notebook</a>'\n",
              "            + ' to learn more about interactive tables.';\n",
              "          element.innerHTML = '';\n",
              "          dataTable['output_type'] = 'display_data';\n",
              "          await google.colab.output.renderOutput(dataTable, element);\n",
              "          const docLink = document.createElement('div');\n",
              "          docLink.innerHTML = docLinkHtml;\n",
              "          element.appendChild(docLink);\n",
              "        }\n",
              "      </script>\n",
              "    </div>\n",
              "  </div>\n",
              "  "
            ]
          },
          "metadata": {},
          "execution_count": 10
        }
      ]
    },
    {
      "cell_type": "markdown",
      "source": [
        "Aplicando OneHotEncoder"
      ],
      "metadata": {
        "id": "L1ZAE2sXAAHJ"
      }
    },
    {
      "cell_type": "code",
      "source": [
        "ohe = OneHotEncoder(use_cat_names=True)"
      ],
      "metadata": {
        "id": "jNefK_x_L0Cy"
      },
      "execution_count": 11,
      "outputs": []
    },
    {
      "cell_type": "code",
      "source": [
        "x_train = ohe.fit_transform(x_train)\n",
        "x_train.head()"
      ],
      "metadata": {
        "colab": {
          "base_uri": "https://localhost:8080/",
          "height": 334
        },
        "id": "-CtM_Z5EDQ_Q",
        "outputId": "a3ddd84b-79f7-42b2-d206-6b23539428e1"
      },
      "execution_count": 12,
      "outputs": [
        {
          "output_type": "execute_result",
          "data": {
            "text/plain": [
              "       age  workclass_?  workclass_Private  workclass_Local-gov  \\\n",
              "25266   28            1                  0                    0   \n",
              "31169   36            0                  1                    0   \n",
              "12460   51            0                  1                    0   \n",
              "13566   56            0                  0                    1   \n",
              "28680   35            0                  1                    0   \n",
              "\n",
              "       workclass_Self-emp-inc  workclass_State-gov  workclass_Federal-gov  \\\n",
              "25266                       0                    0                      0   \n",
              "31169                       0                    0                      0   \n",
              "12460                       0                    0                      0   \n",
              "13566                       0                    0                      0   \n",
              "28680                       0                    0                      0   \n",
              "\n",
              "       workclass_Self-emp-not-inc  workclass_Never-worked  \\\n",
              "25266                           0                       0   \n",
              "31169                           0                       0   \n",
              "12460                           0                       0   \n",
              "13566                           0                       0   \n",
              "28680                           0                       0   \n",
              "\n",
              "       workclass_Without-pay  ...  native-country_Hong  native-country_China  \\\n",
              "25266                      0  ...                    0                     0   \n",
              "31169                      0  ...                    0                     0   \n",
              "12460                      0  ...                    0                     0   \n",
              "13566                      0  ...                    0                     0   \n",
              "28680                      0  ...                    0                     0   \n",
              "\n",
              "       native-country_Taiwan  native-country_France  native-country_Greece  \\\n",
              "25266                      0                      0                      0   \n",
              "31169                      0                      0                      0   \n",
              "12460                      0                      0                      0   \n",
              "13566                      0                      0                      0   \n",
              "28680                      0                      0                      0   \n",
              "\n",
              "       native-country_Cambodia  native-country_Germany  \\\n",
              "25266                        0                       0   \n",
              "31169                        0                       0   \n",
              "12460                        0                       0   \n",
              "13566                        0                       0   \n",
              "28680                        0                       0   \n",
              "\n",
              "       native-country_Ecuador  native-country_Ireland  \\\n",
              "25266                       0                       0   \n",
              "31169                       0                       0   \n",
              "12460                       0                       0   \n",
              "13566                       0                       0   \n",
              "28680                       0                       0   \n",
              "\n",
              "       native-country_Outlying-US(Guam-USVI-etc)  \n",
              "25266                                          0  \n",
              "31169                                          0  \n",
              "12460                                          0  \n",
              "13566                                          0  \n",
              "28680                                          0  \n",
              "\n",
              "[5 rows x 91 columns]"
            ],
            "text/html": [
              "\n",
              "  <div id=\"df-b503ed03-3886-423a-a89d-80cefe5eaddd\">\n",
              "    <div class=\"colab-df-container\">\n",
              "      <div>\n",
              "<style scoped>\n",
              "    .dataframe tbody tr th:only-of-type {\n",
              "        vertical-align: middle;\n",
              "    }\n",
              "\n",
              "    .dataframe tbody tr th {\n",
              "        vertical-align: top;\n",
              "    }\n",
              "\n",
              "    .dataframe thead th {\n",
              "        text-align: right;\n",
              "    }\n",
              "</style>\n",
              "<table border=\"1\" class=\"dataframe\">\n",
              "  <thead>\n",
              "    <tr style=\"text-align: right;\">\n",
              "      <th></th>\n",
              "      <th>age</th>\n",
              "      <th>workclass_?</th>\n",
              "      <th>workclass_Private</th>\n",
              "      <th>workclass_Local-gov</th>\n",
              "      <th>workclass_Self-emp-inc</th>\n",
              "      <th>workclass_State-gov</th>\n",
              "      <th>workclass_Federal-gov</th>\n",
              "      <th>workclass_Self-emp-not-inc</th>\n",
              "      <th>workclass_Never-worked</th>\n",
              "      <th>workclass_Without-pay</th>\n",
              "      <th>...</th>\n",
              "      <th>native-country_Hong</th>\n",
              "      <th>native-country_China</th>\n",
              "      <th>native-country_Taiwan</th>\n",
              "      <th>native-country_France</th>\n",
              "      <th>native-country_Greece</th>\n",
              "      <th>native-country_Cambodia</th>\n",
              "      <th>native-country_Germany</th>\n",
              "      <th>native-country_Ecuador</th>\n",
              "      <th>native-country_Ireland</th>\n",
              "      <th>native-country_Outlying-US(Guam-USVI-etc)</th>\n",
              "    </tr>\n",
              "  </thead>\n",
              "  <tbody>\n",
              "    <tr>\n",
              "      <th>25266</th>\n",
              "      <td>28</td>\n",
              "      <td>1</td>\n",
              "      <td>0</td>\n",
              "      <td>0</td>\n",
              "      <td>0</td>\n",
              "      <td>0</td>\n",
              "      <td>0</td>\n",
              "      <td>0</td>\n",
              "      <td>0</td>\n",
              "      <td>0</td>\n",
              "      <td>...</td>\n",
              "      <td>0</td>\n",
              "      <td>0</td>\n",
              "      <td>0</td>\n",
              "      <td>0</td>\n",
              "      <td>0</td>\n",
              "      <td>0</td>\n",
              "      <td>0</td>\n",
              "      <td>0</td>\n",
              "      <td>0</td>\n",
              "      <td>0</td>\n",
              "    </tr>\n",
              "    <tr>\n",
              "      <th>31169</th>\n",
              "      <td>36</td>\n",
              "      <td>0</td>\n",
              "      <td>1</td>\n",
              "      <td>0</td>\n",
              "      <td>0</td>\n",
              "      <td>0</td>\n",
              "      <td>0</td>\n",
              "      <td>0</td>\n",
              "      <td>0</td>\n",
              "      <td>0</td>\n",
              "      <td>...</td>\n",
              "      <td>0</td>\n",
              "      <td>0</td>\n",
              "      <td>0</td>\n",
              "      <td>0</td>\n",
              "      <td>0</td>\n",
              "      <td>0</td>\n",
              "      <td>0</td>\n",
              "      <td>0</td>\n",
              "      <td>0</td>\n",
              "      <td>0</td>\n",
              "    </tr>\n",
              "    <tr>\n",
              "      <th>12460</th>\n",
              "      <td>51</td>\n",
              "      <td>0</td>\n",
              "      <td>1</td>\n",
              "      <td>0</td>\n",
              "      <td>0</td>\n",
              "      <td>0</td>\n",
              "      <td>0</td>\n",
              "      <td>0</td>\n",
              "      <td>0</td>\n",
              "      <td>0</td>\n",
              "      <td>...</td>\n",
              "      <td>0</td>\n",
              "      <td>0</td>\n",
              "      <td>0</td>\n",
              "      <td>0</td>\n",
              "      <td>0</td>\n",
              "      <td>0</td>\n",
              "      <td>0</td>\n",
              "      <td>0</td>\n",
              "      <td>0</td>\n",
              "      <td>0</td>\n",
              "    </tr>\n",
              "    <tr>\n",
              "      <th>13566</th>\n",
              "      <td>56</td>\n",
              "      <td>0</td>\n",
              "      <td>0</td>\n",
              "      <td>1</td>\n",
              "      <td>0</td>\n",
              "      <td>0</td>\n",
              "      <td>0</td>\n",
              "      <td>0</td>\n",
              "      <td>0</td>\n",
              "      <td>0</td>\n",
              "      <td>...</td>\n",
              "      <td>0</td>\n",
              "      <td>0</td>\n",
              "      <td>0</td>\n",
              "      <td>0</td>\n",
              "      <td>0</td>\n",
              "      <td>0</td>\n",
              "      <td>0</td>\n",
              "      <td>0</td>\n",
              "      <td>0</td>\n",
              "      <td>0</td>\n",
              "    </tr>\n",
              "    <tr>\n",
              "      <th>28680</th>\n",
              "      <td>35</td>\n",
              "      <td>0</td>\n",
              "      <td>1</td>\n",
              "      <td>0</td>\n",
              "      <td>0</td>\n",
              "      <td>0</td>\n",
              "      <td>0</td>\n",
              "      <td>0</td>\n",
              "      <td>0</td>\n",
              "      <td>0</td>\n",
              "      <td>...</td>\n",
              "      <td>0</td>\n",
              "      <td>0</td>\n",
              "      <td>0</td>\n",
              "      <td>0</td>\n",
              "      <td>0</td>\n",
              "      <td>0</td>\n",
              "      <td>0</td>\n",
              "      <td>0</td>\n",
              "      <td>0</td>\n",
              "      <td>0</td>\n",
              "    </tr>\n",
              "  </tbody>\n",
              "</table>\n",
              "<p>5 rows × 91 columns</p>\n",
              "</div>\n",
              "      <button class=\"colab-df-convert\" onclick=\"convertToInteractive('df-b503ed03-3886-423a-a89d-80cefe5eaddd')\"\n",
              "              title=\"Convert this dataframe to an interactive table.\"\n",
              "              style=\"display:none;\">\n",
              "        \n",
              "  <svg xmlns=\"http://www.w3.org/2000/svg\" height=\"24px\"viewBox=\"0 0 24 24\"\n",
              "       width=\"24px\">\n",
              "    <path d=\"M0 0h24v24H0V0z\" fill=\"none\"/>\n",
              "    <path d=\"M18.56 5.44l.94 2.06.94-2.06 2.06-.94-2.06-.94-.94-2.06-.94 2.06-2.06.94zm-11 1L8.5 8.5l.94-2.06 2.06-.94-2.06-.94L8.5 2.5l-.94 2.06-2.06.94zm10 10l.94 2.06.94-2.06 2.06-.94-2.06-.94-.94-2.06-.94 2.06-2.06.94z\"/><path d=\"M17.41 7.96l-1.37-1.37c-.4-.4-.92-.59-1.43-.59-.52 0-1.04.2-1.43.59L10.3 9.45l-7.72 7.72c-.78.78-.78 2.05 0 2.83L4 21.41c.39.39.9.59 1.41.59.51 0 1.02-.2 1.41-.59l7.78-7.78 2.81-2.81c.8-.78.8-2.07 0-2.86zM5.41 20L4 18.59l7.72-7.72 1.47 1.35L5.41 20z\"/>\n",
              "  </svg>\n",
              "      </button>\n",
              "      \n",
              "  <style>\n",
              "    .colab-df-container {\n",
              "      display:flex;\n",
              "      flex-wrap:wrap;\n",
              "      gap: 12px;\n",
              "    }\n",
              "\n",
              "    .colab-df-convert {\n",
              "      background-color: #E8F0FE;\n",
              "      border: none;\n",
              "      border-radius: 50%;\n",
              "      cursor: pointer;\n",
              "      display: none;\n",
              "      fill: #1967D2;\n",
              "      height: 32px;\n",
              "      padding: 0 0 0 0;\n",
              "      width: 32px;\n",
              "    }\n",
              "\n",
              "    .colab-df-convert:hover {\n",
              "      background-color: #E2EBFA;\n",
              "      box-shadow: 0px 1px 2px rgba(60, 64, 67, 0.3), 0px 1px 3px 1px rgba(60, 64, 67, 0.15);\n",
              "      fill: #174EA6;\n",
              "    }\n",
              "\n",
              "    [theme=dark] .colab-df-convert {\n",
              "      background-color: #3B4455;\n",
              "      fill: #D2E3FC;\n",
              "    }\n",
              "\n",
              "    [theme=dark] .colab-df-convert:hover {\n",
              "      background-color: #434B5C;\n",
              "      box-shadow: 0px 1px 3px 1px rgba(0, 0, 0, 0.15);\n",
              "      filter: drop-shadow(0px 1px 2px rgba(0, 0, 0, 0.3));\n",
              "      fill: #FFFFFF;\n",
              "    }\n",
              "  </style>\n",
              "\n",
              "      <script>\n",
              "        const buttonEl =\n",
              "          document.querySelector('#df-b503ed03-3886-423a-a89d-80cefe5eaddd button.colab-df-convert');\n",
              "        buttonEl.style.display =\n",
              "          google.colab.kernel.accessAllowed ? 'block' : 'none';\n",
              "\n",
              "        async function convertToInteractive(key) {\n",
              "          const element = document.querySelector('#df-b503ed03-3886-423a-a89d-80cefe5eaddd');\n",
              "          const dataTable =\n",
              "            await google.colab.kernel.invokeFunction('convertToInteractive',\n",
              "                                                     [key], {});\n",
              "          if (!dataTable) return;\n",
              "\n",
              "          const docLinkHtml = 'Like what you see? Visit the ' +\n",
              "            '<a target=\"_blank\" href=https://colab.research.google.com/notebooks/data_table.ipynb>data table notebook</a>'\n",
              "            + ' to learn more about interactive tables.';\n",
              "          element.innerHTML = '';\n",
              "          dataTable['output_type'] = 'display_data';\n",
              "          await google.colab.output.renderOutput(dataTable, element);\n",
              "          const docLink = document.createElement('div');\n",
              "          docLink.innerHTML = docLinkHtml;\n",
              "          element.appendChild(docLink);\n",
              "        }\n",
              "      </script>\n",
              "    </div>\n",
              "  </div>\n",
              "  "
            ]
          },
          "metadata": {},
          "execution_count": 12
        }
      ]
    },
    {
      "cell_type": "markdown",
      "source": [
        "Pré-Processamento"
      ],
      "metadata": {
        "id": "zIUVtmY7EuJp"
      }
    },
    {
      "cell_type": "code",
      "source": [
        "scale = StandardScaler().fit(x_train)"
      ],
      "metadata": {
        "id": "FPYzLYsuDfxD"
      },
      "execution_count": 13,
      "outputs": []
    },
    {
      "cell_type": "code",
      "source": [
        "scale"
      ],
      "metadata": {
        "colab": {
          "base_uri": "https://localhost:8080/"
        },
        "id": "Eoyg_522Gngt",
        "outputId": "a5d2b6df-dae3-4bad-9f17-389a3b43a8ef"
      },
      "execution_count": 14,
      "outputs": [
        {
          "output_type": "execute_result",
          "data": {
            "text/plain": [
              "StandardScaler()"
            ]
          },
          "metadata": {},
          "execution_count": 14
        }
      ]
    },
    {
      "cell_type": "code",
      "source": [
        "valores_escalados = scale.transform(x_train)"
      ],
      "metadata": {
        "id": "XhlKWDr9Gn9g"
      },
      "execution_count": 15,
      "outputs": []
    },
    {
      "cell_type": "code",
      "source": [
        "valores_escalados[:10]"
      ],
      "metadata": {
        "colab": {
          "base_uri": "https://localhost:8080/"
        },
        "id": "SCHdE_w1GoMu",
        "outputId": "4162b95e-ca3d-4f2b-efbf-8d7cdbb40969"
      },
      "execution_count": 16,
      "outputs": [
        {
          "output_type": "execute_result",
          "data": {
            "text/plain": [
              "array([[-0.77678522,  4.06738028, -1.52063303, -0.26021175, -0.18974501,\n",
              "        -0.2026511 , -0.17043295, -0.29178399, -0.01382503, -0.02023998,\n",
              "         0.06317943,  0.36003022,  5.53470757, -0.7043578 , -0.91637156,\n",
              "        -0.1773482 , -0.11474118, -0.39689275, -0.02765799,  4.060168  ,\n",
              "        -0.14109416, -0.33509489, -0.37650673, -0.17824692, -0.3764122 ,\n",
              "        -0.35734796, -0.25618175, -0.22805775, -0.1777572 , -0.37910157,\n",
              "        -0.21083504, -0.36040111, -0.07066313, -0.01567654,  2.91839295,\n",
              "        -0.58967695, -0.82136262, -0.42954734, -0.17995171, -0.22189656,\n",
              "         0.4117914 , -0.32594825, -0.09476012, -0.17767547, -0.0976505 ,\n",
              "         1.42008278, -1.42008278, -0.14469679, -0.21475951, -0.03162131,\n",
              "         7.15928415, -2.96509138, -0.04406828, -0.13451165, -0.0342819 ,\n",
              "        -0.0215477 , -0.02023998, -0.03092553, -0.04437814, -0.03842314,\n",
              "        -0.05152728, -0.03507105, -0.0455967 , -0.07719616, -0.03048012,\n",
              "        -0.04529511, -0.04707592, -0.04216168, -0.05284224, -0.06216166,\n",
              "        -0.04794174, -0.05875017, -0.02023998, -0.06013765, -0.04117554,\n",
              "        -0.0227806 , -0.05537957, -0.04280658, -0.02451418, -0.01810245,\n",
              "        -0.02506547, -0.0227806 , -0.04707592, -0.03806519, -0.02814794,\n",
              "        -0.03092553, -0.0227806 , -0.06706129, -0.02956925, -0.02715924,\n",
              "        -0.02090405],\n",
              "       [-0.1932365 , -0.2458585 ,  0.65762086, -0.26021175, -0.18974501,\n",
              "        -0.2026511 , -0.17043295, -0.29178399, -0.01382503, -0.02023998,\n",
              "         0.1118032 , -1.19230677, -0.18067802,  1.41973298, -0.91637156,\n",
              "        -0.1773482 , -0.11474118, -0.39689275, -0.02765799, -0.24629523,\n",
              "         7.08746554, -0.33509489, -0.37650673, -0.17824692, -0.3764122 ,\n",
              "        -0.35734796, -0.25618175, -0.22805775, -0.1777572 , -0.37910157,\n",
              "        -0.21083504, -0.36040111, -0.07066313, -0.01567654, -0.34265434,\n",
              "         1.69584379, -0.82136262, -0.42954734, -0.17995171, -0.22189656,\n",
              "        -2.42841399,  3.06797168, -0.09476012, -0.17767547, -0.0976505 ,\n",
              "        -0.7041843 ,  0.7041843 ,  1.66312427, -0.21475951, -0.03162131,\n",
              "        -0.13967877,  0.33725773, -0.04406828, -0.13451165, -0.0342819 ,\n",
              "        -0.0215477 , -0.02023998, -0.03092553, -0.04437814, -0.03842314,\n",
              "        -0.05152728, -0.03507105, -0.0455967 , -0.07719616, -0.03048012,\n",
              "        -0.04529511, -0.04707592, -0.04216168, -0.05284224, -0.06216166,\n",
              "        -0.04794174, -0.05875017, -0.02023998, -0.06013765, -0.04117554,\n",
              "        -0.0227806 , -0.05537957, -0.04280658, -0.02451418, -0.01810245,\n",
              "        -0.02506547, -0.0227806 , -0.04707592, -0.03806519, -0.02814794,\n",
              "        -0.03092553, -0.0227806 , -0.06706129, -0.02956925, -0.02715924,\n",
              "        -0.02090405],\n",
              "       [ 0.90091737, -0.2458585 ,  0.65762086, -0.26021175, -0.18974501,\n",
              "        -0.2026511 , -0.17043295, -0.29178399, -0.01382503, -0.02023998,\n",
              "        -0.77129683,  1.13619871, -0.18067802, -0.7043578 ,  1.09126041,\n",
              "        -0.1773482 , -0.11474118, -0.39689275, -0.02765799, -0.24629523,\n",
              "        -0.14109416,  2.98422932, -0.37650673, -0.17824692, -0.3764122 ,\n",
              "        -0.35734796, -0.25618175, -0.22805775, -0.1777572 , -0.37910157,\n",
              "        -0.21083504, -0.36040111, -0.07066313, -0.01567654, -0.34265434,\n",
              "        -0.58967695,  1.21748905, -0.42954734, -0.17995171, -0.22189656,\n",
              "         0.4117914 , -0.32594825, -0.09476012, -0.17767547, -0.0976505 ,\n",
              "        -0.7041843 ,  0.7041843 , -0.14469679, -0.21475951, -0.03162131,\n",
              "        -0.13967877,  0.33725773, -0.04406828, -0.13451165, -0.0342819 ,\n",
              "        -0.0215477 , -0.02023998, -0.03092553, -0.04437814, -0.03842314,\n",
              "        -0.05152728, -0.03507105, -0.0455967 , -0.07719616, -0.03048012,\n",
              "        -0.04529511, -0.04707592, -0.04216168, -0.05284224, -0.06216166,\n",
              "        -0.04794174, -0.05875017, -0.02023998, -0.06013765, -0.04117554,\n",
              "        -0.0227806 , -0.05537957, -0.04280658, -0.02451418, -0.01810245,\n",
              "        -0.02506547, -0.0227806 , -0.04707592, -0.03806519, -0.02814794,\n",
              "        -0.03092553, -0.0227806 , -0.06706129, -0.02956925, -0.02715924,\n",
              "        -0.02090405],\n",
              "       [ 1.26563532, -0.2458585 , -1.52063303,  3.84302399, -0.18974501,\n",
              "        -0.2026511 , -0.17043295, -0.29178399, -0.01382503, -0.02023998,\n",
              "         0.14955546, -0.41613827, -0.18067802, -0.7043578 ,  1.09126041,\n",
              "        -0.1773482 , -0.11474118, -0.39689275, -0.02765799, -0.24629523,\n",
              "        -0.14109416, -0.33509489,  2.65599503, -0.17824692, -0.3764122 ,\n",
              "        -0.35734796, -0.25618175, -0.22805775, -0.1777572 , -0.37910157,\n",
              "        -0.21083504, -0.36040111, -0.07066313, -0.01567654, -0.34265434,\n",
              "        -0.58967695,  1.21748905, -0.42954734, -0.17995171, -0.22189656,\n",
              "         0.4117914 , -0.32594825, -0.09476012, -0.17767547, -0.0976505 ,\n",
              "        -0.7041843 ,  0.7041843 , -0.14469679, -0.21475951, -0.03162131,\n",
              "        -0.13967877,  0.33725773, -0.04406828, -0.13451165, -0.0342819 ,\n",
              "        -0.0215477 , -0.02023998, -0.03092553, -0.04437814, -0.03842314,\n",
              "        -0.05152728, -0.03507105, -0.0455967 , -0.07719616, -0.03048012,\n",
              "        -0.04529511, -0.04707592, -0.04216168, -0.05284224, -0.06216166,\n",
              "        -0.04794174, -0.05875017, -0.02023998, -0.06013765, -0.04117554,\n",
              "        -0.0227806 , -0.05537957, -0.04280658, -0.02451418, -0.01810245,\n",
              "        -0.02506547, -0.0227806 , -0.04707592, -0.03806519, -0.02814794,\n",
              "        -0.03092553, -0.0227806 , -0.06706129, -0.02956925, -0.02715924,\n",
              "        -0.02090405],\n",
              "       [-0.26618009, -0.2458585 ,  0.65762086, -0.26021175, -0.18974501,\n",
              "        -0.2026511 , -0.17043295, -0.29178399, -0.01382503, -0.02023998,\n",
              "         0.07013379, -0.41613827, -0.18067802, -0.7043578 ,  1.09126041,\n",
              "        -0.1773482 , -0.11474118, -0.39689275, -0.02765799, -0.24629523,\n",
              "        -0.14109416, -0.33509489, -0.37650673,  5.61019525, -0.3764122 ,\n",
              "        -0.35734796, -0.25618175, -0.22805775, -0.1777572 , -0.37910157,\n",
              "        -0.21083504, -0.36040111, -0.07066313, -0.01567654, -0.34265434,\n",
              "        -0.58967695,  1.21748905, -0.42954734, -0.17995171, -0.22189656,\n",
              "         0.4117914 , -0.32594825, -0.09476012, -0.17767547, -0.0976505 ,\n",
              "        -0.7041843 ,  0.7041843 , -0.14469679, -0.21475951, -0.03162131,\n",
              "        -0.13967877,  0.33725773, -0.04406828, -0.13451165, -0.0342819 ,\n",
              "        -0.0215477 , -0.02023998, -0.03092553, -0.04437814, -0.03842314,\n",
              "        -0.05152728, -0.03507105, -0.0455967 , -0.07719616, -0.03048012,\n",
              "        -0.04529511, -0.04707592, -0.04216168, -0.05284224, -0.06216166,\n",
              "        -0.04794174, -0.05875017, -0.02023998, -0.06013765, -0.04117554,\n",
              "        -0.0227806 , -0.05537957, -0.04280658, -0.02451418, -0.01810245,\n",
              "        -0.02506547, -0.0227806 , -0.04707592, -0.03806519, -0.02814794,\n",
              "        -0.03092553, -0.0227806 , -0.06706129, -0.02956925, -0.02715924,\n",
              "        -0.02090405],\n",
              "       [ 1.92212764, -0.2458585 , -1.52063303,  3.84302399, -0.18974501,\n",
              "        -0.2026511 , -0.17043295, -0.29178399, -0.01382503, -0.02023998,\n",
              "        -0.34121442, -0.80422252, -0.18067802, -0.7043578 , -0.91637156,\n",
              "         5.63862495, -0.11474118, -0.39689275, -0.02765799, -0.24629523,\n",
              "        -0.14109416, -0.33509489, -0.37650673, -0.17824692,  2.65666201,\n",
              "        -0.35734796, -0.25618175, -0.22805775, -0.1777572 , -0.37910157,\n",
              "        -0.21083504, -0.36040111, -0.07066313, -0.01567654, -0.34265434,\n",
              "         1.69584379, -0.82136262, -0.42954734, -0.17995171, -0.22189656,\n",
              "         0.4117914 , -0.32594825, -0.09476012, -0.17767547, -0.0976505 ,\n",
              "        -0.7041843 ,  0.7041843 ,  0.12334103, -0.21475951,  0.29297454,\n",
              "        -0.13967877,  0.33725773, -0.04406828, -0.13451165, -0.0342819 ,\n",
              "        -0.0215477 , -0.02023998, -0.03092553, -0.04437814, -0.03842314,\n",
              "        -0.05152728, -0.03507105, -0.0455967 , -0.07719616, -0.03048012,\n",
              "        -0.04529511, -0.04707592, -0.04216168, -0.05284224, -0.06216166,\n",
              "        -0.04794174, -0.05875017, -0.02023998, -0.06013765, -0.04117554,\n",
              "        -0.0227806 , -0.05537957, -0.04280658, -0.02451418, -0.01810245,\n",
              "        -0.02506547, -0.0227806 , -0.04707592, -0.03806519, -0.02814794,\n",
              "        -0.03092553, -0.0227806 , -0.06706129, -0.02956925, -0.02715924,\n",
              "        -0.02090405],\n",
              "       [-1.43327754, -0.2458585 ,  0.65762086, -0.26021175, -0.18974501,\n",
              "        -0.2026511 , -0.17043295, -0.29178399, -0.01382503, -0.02023998,\n",
              "         0.54258578, -0.80422252, -0.18067802, -0.7043578 , -0.91637156,\n",
              "        -0.1773482 ,  8.7152672 , -0.39689275, -0.02765799, -0.24629523,\n",
              "        -0.14109416,  2.98422932, -0.37650673, -0.17824692, -0.3764122 ,\n",
              "        -0.35734796, -0.25618175, -0.22805775, -0.1777572 , -0.37910157,\n",
              "        -0.21083504, -0.36040111, -0.07066313, -0.01567654, -0.34265434,\n",
              "        -0.58967695, -0.82136262,  2.32803213, -0.17995171, -0.22189656,\n",
              "        -2.42841399, -0.32594825, 10.55296312, -0.17767547, -0.0976505 ,\n",
              "         1.42008278, -1.42008278, -0.14469679, -0.21475951, -1.65460059,\n",
              "        -0.13967877,  0.33725773, -0.04406828, -0.13451165, -0.0342819 ,\n",
              "        -0.0215477 , -0.02023998, -0.03092553, -0.04437814, -0.03842314,\n",
              "        -0.05152728, -0.03507105, -0.0455967 , -0.07719616, -0.03048012,\n",
              "        -0.04529511, -0.04707592, -0.04216168, -0.05284224, -0.06216166,\n",
              "        -0.04794174, -0.05875017, -0.02023998, -0.06013765, -0.04117554,\n",
              "        -0.0227806 , -0.05537957, -0.04280658, -0.02451418, -0.01810245,\n",
              "        -0.02506547, -0.0227806 , -0.04707592, -0.03806519, -0.02814794,\n",
              "        -0.03092553, -0.0227806 , -0.06706129, -0.02956925, -0.02715924,\n",
              "        -0.02090405],\n",
              "       [-0.1932365 , -0.2458585 , -1.52063303, -0.26021175,  5.27023091,\n",
              "        -0.2026511 , -0.17043295, -0.29178399, -0.01382503, -0.02023998,\n",
              "        -1.06734454,  1.13619871, -0.18067802, -0.7043578 ,  1.09126041,\n",
              "        -0.1773482 , -0.11474118, -0.39689275, -0.02765799, -0.24629523,\n",
              "        -0.14109416, -0.33509489, -0.37650673, -0.17824692, -0.3764122 ,\n",
              "         2.79839291, -0.25618175, -0.22805775, -0.1777572 , -0.37910157,\n",
              "        -0.21083504, -0.36040111, -0.07066313, -0.01567654, -0.34265434,\n",
              "        -0.58967695,  1.21748905, -0.42954734, -0.17995171, -0.22189656,\n",
              "         0.4117914 , -0.32594825, -0.09476012, -0.17767547, -0.0976505 ,\n",
              "        -0.7041843 ,  0.7041843 ,  1.85978318, -0.21475951,  0.37412351,\n",
              "        -0.13967877,  0.33725773, -0.04406828, -0.13451165, -0.0342819 ,\n",
              "        -0.0215477 , -0.02023998, -0.03092553, -0.04437814, -0.03842314,\n",
              "        -0.05152728, -0.03507105, -0.0455967 , -0.07719616, -0.03048012,\n",
              "        -0.04529511, -0.04707592, -0.04216168, -0.05284224, -0.06216166,\n",
              "        -0.04794174, -0.05875017, -0.02023998, -0.06013765, -0.04117554,\n",
              "        -0.0227806 , -0.05537957, -0.04280658, -0.02451418, -0.01810245,\n",
              "        -0.02506547, -0.0227806 , -0.04707592, -0.03806519, -0.02814794,\n",
              "        -0.03092553, -0.0227806 , -0.06706129, -0.02956925, -0.02715924,\n",
              "        -0.02090405],\n",
              "       [ 0.97386096, -0.2458585 ,  0.65762086, -0.26021175, -0.18974501,\n",
              "        -0.2026511 , -0.17043295, -0.29178399, -0.01382503, -0.02023998,\n",
              "        -0.35556784, -0.41613827, -0.18067802, -0.7043578 ,  1.09126041,\n",
              "        -0.1773482 , -0.11474118, -0.39689275, -0.02765799, -0.24629523,\n",
              "        -0.14109416, -0.33509489, -0.37650673, -0.17824692, -0.3764122 ,\n",
              "        -0.35734796,  3.90347863, -0.22805775, -0.1777572 , -0.37910157,\n",
              "        -0.21083504, -0.36040111, -0.07066313, -0.01567654, -0.34265434,\n",
              "        -0.58967695,  1.21748905, -0.42954734, -0.17995171, -0.22189656,\n",
              "         0.4117914 , -0.32594825, -0.09476012, -0.17767547, -0.0976505 ,\n",
              "        -0.7041843 ,  0.7041843 ,  0.13614921, -0.21475951, -0.03162131,\n",
              "        -0.13967877,  0.33725773, -0.04406828, -0.13451165, -0.0342819 ,\n",
              "        -0.0215477 , -0.02023998, -0.03092553, -0.04437814, -0.03842314,\n",
              "        -0.05152728, -0.03507105, -0.0455967 , -0.07719616, -0.03048012,\n",
              "        -0.04529511, -0.04707592, -0.04216168, -0.05284224, -0.06216166,\n",
              "        -0.04794174, -0.05875017, -0.02023998, -0.06013765, -0.04117554,\n",
              "        -0.0227806 , -0.05537957, -0.04280658, -0.02451418, -0.01810245,\n",
              "        -0.02506547, -0.0227806 , -0.04707592, -0.03806519, -0.02814794,\n",
              "        -0.03092553, -0.0227806 , -0.06706129, -0.02956925, -0.02715924,\n",
              "        -0.02090405],\n",
              "       [-0.99561599, -0.2458585 ,  0.65762086, -0.26021175, -0.18974501,\n",
              "        -0.2026511 , -0.17043295, -0.29178399, -0.01382503, -0.02023998,\n",
              "        -1.13742749, -1.58039101, -0.18067802,  1.41973298, -0.91637156,\n",
              "        -0.1773482 , -0.11474118, -0.39689275, -0.02765799, -0.24629523,\n",
              "        -0.14109416, -0.33509489, -0.37650673, -0.17824692, -0.3764122 ,\n",
              "        -0.35734796,  3.90347863, -0.22805775, -0.1777572 , -0.37910157,\n",
              "        -0.21083504, -0.36040111, -0.07066313, -0.01567654, -0.34265434,\n",
              "        -0.58967695, -0.82136262,  2.32803213, -0.17995171, -0.22189656,\n",
              "         0.4117914 , -0.32594825, -0.09476012, -0.17767547, -0.0976505 ,\n",
              "        -0.7041843 ,  0.7041843 , -0.14469679, -0.21475951, -0.03162131,\n",
              "        -0.13967877,  0.33725773, -0.04406828, -0.13451165, -0.0342819 ,\n",
              "        -0.0215477 , -0.02023998, -0.03092553, -0.04437814, -0.03842314,\n",
              "        -0.05152728, -0.03507105, -0.0455967 , -0.07719616, -0.03048012,\n",
              "        -0.04529511, -0.04707592, -0.04216168, -0.05284224, -0.06216166,\n",
              "        -0.04794174, -0.05875017, -0.02023998, -0.06013765, -0.04117554,\n",
              "        -0.0227806 , -0.05537957, -0.04280658, -0.02451418, -0.01810245,\n",
              "        -0.02506547, -0.0227806 , -0.04707592, -0.03806519, -0.02814794,\n",
              "        -0.03092553, -0.0227806 , -0.06706129, -0.02956925, -0.02715924,\n",
              "        -0.02090405]])"
            ]
          },
          "metadata": {},
          "execution_count": 16
        }
      ]
    },
    {
      "cell_type": "code",
      "source": [
        "x_train = scale.transform(x_train)"
      ],
      "metadata": {
        "id": "jIR7k0sFGog5"
      },
      "execution_count": 17,
      "outputs": []
    },
    {
      "cell_type": "markdown",
      "source": [
        "Criando o modelo "
      ],
      "metadata": {
        "id": "tihwvUdDIK9b"
      }
    },
    {
      "cell_type": "code",
      "source": [
        "clf_tree = tree.DecisionTreeClassifier()"
      ],
      "metadata": {
        "id": "zV-Q32dIIHaM"
      },
      "execution_count": 18,
      "outputs": []
    },
    {
      "cell_type": "code",
      "source": [
        "clf_tree = clf_tree.fit(x_train,y_train)"
      ],
      "metadata": {
        "id": "NKZOBBn0IRMw"
      },
      "execution_count": 19,
      "outputs": []
    },
    {
      "cell_type": "markdown",
      "source": [
        "Aplicar OHE e Pré-Processamento nos dados de teste"
      ],
      "metadata": {
        "id": "YSVV9zvoIaZy"
      }
    },
    {
      "cell_type": "code",
      "source": [
        "x_test= ohe.transform(x_test)\n",
        "scale_test = StandardScaler().fit(x_test)\n",
        "x_test = scale_test.transform(x_test)"
      ],
      "metadata": {
        "id": "snuxvYuDIYNG"
      },
      "execution_count": 21,
      "outputs": []
    },
    {
      "cell_type": "code",
      "source": [
        "x_test[:10]"
      ],
      "metadata": {
        "colab": {
          "base_uri": "https://localhost:8080/"
        },
        "id": "tFq3ORuOIsGh",
        "outputId": "619d5a5e-4916-4f94-a29a-91aebd54f6e3"
      },
      "execution_count": 22,
      "outputs": [
        {
          "output_type": "execute_result",
          "data": {
            "text/plain": [
              "array([[-7.01992185e-01, -2.48648521e-01,  6.82057757e-01,\n",
              "        -2.67073591e-01, -1.89198523e-01, -2.14266339e-01,\n",
              "        -1.83552978e-01, -2.96704403e-01, -1.56761123e-02,\n",
              "        -2.21720951e-02, -5.69793025e-01, -2.38725305e+00,\n",
              "        -1.77261312e-01, -6.94073233e-01, -9.29357702e-01,\n",
              "        -1.84266861e-01, -1.12270627e-01,  2.53171629e+00,\n",
              "        -2.71584978e-02, -2.49205051e-01, -1.49799609e-01,\n",
              "        -3.33924471e-01,  2.60912720e+00, -1.74788734e-01,\n",
              "        -3.79889947e-01, -3.53439375e-01, -2.58705991e-01,\n",
              "        -2.15933414e-01, -1.65095933e-01, -3.83972255e-01,\n",
              "        -2.09412631e-01, -3.59857936e-01, -7.02699452e-02,\n",
              "        -2.21720951e-02,  2.92741340e+00, -5.87343097e-01,\n",
              "        -8.26928874e-01, -4.25916422e-01, -1.73540821e-01,\n",
              "        -2.29702349e-01,  4.11596878e-01, -3.25066510e-01,\n",
              "        -8.12076031e-02, -1.83552978e-01, -1.01286504e-01,\n",
              "         1.41979096e+00, -1.41979096e+00, -1.45162197e-01,\n",
              "        -2.24106330e-01,  1.14976077e+00, -1.44572689e-01,\n",
              "         3.40551232e-01, -3.50700933e-02, -1.30994339e-01,\n",
              "        -3.62217217e-02, -2.21720951e-02, -2.02394320e-02,\n",
              "        -3.00273100e-02, -5.20557832e-02, -4.15057050e-02,\n",
              "        -4.96271295e-02, -4.24841860e-02, -3.13637878e-02,\n",
              "        -8.01794739e-02, -3.50700933e-02, -4.79404265e-02,\n",
              "        -5.28407904e-02, -4.05037592e-02, -5.43771905e-02,\n",
              "        -5.94462724e-02, -4.24841860e-02, -4.87909980e-02,\n",
              "        -1.81019568e-02, -6.41210105e-02, -4.52938688e-02,\n",
              "        -1.81019568e-02, -5.66045486e-02, -4.52938688e-02,\n",
              "        -2.02394320e-02, -2.71584978e-02, -2.39495810e-02,\n",
              "        -3.00273100e-02, -5.80425707e-02, -3.13637878e-02,\n",
              "        -2.71584978e-02, -3.38795401e-02, -2.71584978e-02,\n",
              "        -5.87485564e-02, -3.26458035e-02, -2.86287434e-02,\n",
              "        -2.39495810e-02],\n",
              "       [-4.57186182e-02, -2.48648521e-01, -1.46615150e+00,\n",
              "        -2.67073591e-01, -1.89198523e-01, -2.14266339e-01,\n",
              "        -1.83552978e-01,  3.37035781e+00, -1.56761123e-02,\n",
              "        -2.21720951e-02, -3.24263074e-01, -4.29039715e-01,\n",
              "        -1.77261312e-01, -6.94073233e-01,  1.07601196e+00,\n",
              "        -1.84266861e-01, -1.12270627e-01, -3.94988966e-01,\n",
              "        -2.71584978e-02, -2.49205051e-01, -1.49799609e-01,\n",
              "        -3.33924471e-01, -3.83269930e-01,  5.72119255e+00,\n",
              "        -3.79889947e-01, -3.53439375e-01, -2.58705991e-01,\n",
              "        -2.15933414e-01, -1.65095933e-01, -3.83972255e-01,\n",
              "        -2.09412631e-01, -3.59857936e-01, -7.02699452e-02,\n",
              "        -2.21720951e-02, -3.41598491e-01, -5.87343097e-01,\n",
              "         1.20929385e+00, -4.25916422e-01, -1.73540821e-01,\n",
              "        -2.29702349e-01,  4.11596878e-01, -3.25066510e-01,\n",
              "        -8.12076031e-02, -1.83552978e-01, -1.01286504e-01,\n",
              "        -7.04329037e-01,  7.04329037e-01, -1.45162197e-01,\n",
              "        -2.24106330e-01,  7.52729828e-01, -1.44572689e-01,\n",
              "         3.40551232e-01, -3.50700933e-02, -1.30994339e-01,\n",
              "        -3.62217217e-02, -2.21720951e-02, -2.02394320e-02,\n",
              "        -3.00273100e-02, -5.20557832e-02, -4.15057050e-02,\n",
              "        -4.96271295e-02, -4.24841860e-02, -3.13637878e-02,\n",
              "        -8.01794739e-02, -3.50700933e-02, -4.79404265e-02,\n",
              "        -5.28407904e-02, -4.05037592e-02, -5.43771905e-02,\n",
              "        -5.94462724e-02, -4.24841860e-02, -4.87909980e-02,\n",
              "        -1.81019568e-02, -6.41210105e-02, -4.52938688e-02,\n",
              "        -1.81019568e-02, -5.66045486e-02, -4.52938688e-02,\n",
              "        -2.02394320e-02, -2.71584978e-02, -2.39495810e-02,\n",
              "        -3.00273100e-02, -5.80425707e-02, -3.13637878e-02,\n",
              "        -2.71584978e-02, -3.38795401e-02, -2.71584978e-02,\n",
              "        -5.87485564e-02, -3.26458035e-02, -2.86287434e-02,\n",
              "        -2.39495810e-02],\n",
              "       [-9.20750040e-01, -2.48648521e-01,  6.82057757e-01,\n",
              "        -2.67073591e-01, -1.89198523e-01, -2.14266339e-01,\n",
              "        -1.83552978e-01, -2.96704403e-01, -1.56761123e-02,\n",
              "        -2.21720951e-02,  3.29081644e-01, -3.73970477e-02,\n",
              "        -1.77261312e-01, -6.94073233e-01,  1.07601196e+00,\n",
              "        -1.84266861e-01, -1.12270627e-01, -3.94988966e-01,\n",
              "        -2.71584978e-02, -2.49205051e-01, -1.49799609e-01,\n",
              "        -3.33924471e-01, -3.83269930e-01, -1.74788734e-01,\n",
              "        -3.79889947e-01, -3.53439375e-01, -2.58705991e-01,\n",
              "        -2.15933414e-01, -1.65095933e-01, -3.83972255e-01,\n",
              "        -2.09412631e-01,  2.77887439e+00, -7.02699452e-02,\n",
              "        -2.21720951e-02, -3.41598491e-01, -5.87343097e-01,\n",
              "         1.20929385e+00, -4.25916422e-01, -1.73540821e-01,\n",
              "        -2.29702349e-01,  4.11596878e-01, -3.25066510e-01,\n",
              "        -8.12076031e-02, -1.83552978e-01, -1.01286504e-01,\n",
              "        -7.04329037e-01,  7.04329037e-01, -1.45162197e-01,\n",
              "        -2.24106330e-01, -4.13320558e-02, -1.44572689e-01,\n",
              "         3.40551232e-01, -3.50700933e-02, -1.30994339e-01,\n",
              "        -3.62217217e-02, -2.21720951e-02, -2.02394320e-02,\n",
              "        -3.00273100e-02, -5.20557832e-02, -4.15057050e-02,\n",
              "        -4.96271295e-02, -4.24841860e-02, -3.13637878e-02,\n",
              "        -8.01794739e-02, -3.50700933e-02, -4.79404265e-02,\n",
              "        -5.28407904e-02, -4.05037592e-02, -5.43771905e-02,\n",
              "        -5.94462724e-02, -4.24841860e-02, -4.87909980e-02,\n",
              "        -1.81019568e-02, -6.41210105e-02, -4.52938688e-02,\n",
              "        -1.81019568e-02, -5.66045486e-02, -4.52938688e-02,\n",
              "        -2.02394320e-02, -2.71584978e-02, -2.39495810e-02,\n",
              "        -3.00273100e-02, -5.80425707e-02, -3.13637878e-02,\n",
              "        -2.71584978e-02, -3.38795401e-02, -2.71584978e-02,\n",
              "        -5.87485564e-02, -3.26458035e-02, -2.86287434e-02,\n",
              "        -2.39495810e-02],\n",
              "       [-5.56153614e-01, -2.48648521e-01,  6.82057757e-01,\n",
              "        -2.67073591e-01, -1.89198523e-01, -2.14266339e-01,\n",
              "        -1.83552978e-01, -2.96704403e-01, -1.56761123e-02,\n",
              "        -2.21720951e-02,  1.83757574e+00, -3.73970477e-02,\n",
              "        -1.77261312e-01,  1.44077016e+00, -9.29357702e-01,\n",
              "        -1.84266861e-01, -1.12270627e-01, -3.94988966e-01,\n",
              "        -2.71584978e-02, -2.49205051e-01, -1.49799609e-01,\n",
              "        -3.33924471e-01, -3.83269930e-01, -1.74788734e-01,\n",
              "        -3.79889947e-01, -3.53439375e-01, -2.58705991e-01,\n",
              "        -2.15933414e-01, -1.65095933e-01, -3.83972255e-01,\n",
              "        -2.09412631e-01,  2.77887439e+00, -7.02699452e-02,\n",
              "        -2.21720951e-02, -3.41598491e-01,  1.70258237e+00,\n",
              "        -8.26928874e-01, -4.25916422e-01, -1.73540821e-01,\n",
              "        -2.29702349e-01,  4.11596878e-01, -3.25066510e-01,\n",
              "        -8.12076031e-02, -1.83552978e-01, -1.01286504e-01,\n",
              "        -7.04329037e-01,  7.04329037e-01, -1.45162197e-01,\n",
              "        -2.24106330e-01, -4.13320558e-02, -1.44572689e-01,\n",
              "        -2.93641575e+00, -3.50700933e-02, -1.30994339e-01,\n",
              "        -3.62217217e-02, -2.21720951e-02, -2.02394320e-02,\n",
              "        -3.00273100e-02, -5.20557832e-02, -4.15057050e-02,\n",
              "        -4.96271295e-02, -4.24841860e-02, -3.13637878e-02,\n",
              "        -8.01794739e-02, -3.50700933e-02, -4.79404265e-02,\n",
              "        -5.28407904e-02, -4.05037592e-02, -5.43771905e-02,\n",
              "        -5.94462724e-02, -4.24841860e-02, -4.87909980e-02,\n",
              "        -1.81019568e-02, -6.41210105e-02, -4.52938688e-02,\n",
              "        -1.81019568e-02, -5.66045486e-02, -4.52938688e-02,\n",
              "        -2.02394320e-02, -2.71584978e-02, -2.39495810e-02,\n",
              "        -3.00273100e-02, -5.80425707e-02, -3.13637878e-02,\n",
              "        -2.71584978e-02, -3.38795401e-02, -2.71584978e-02,\n",
              "         1.70216948e+01, -3.26458035e-02, -2.86287434e-02,\n",
              "        -2.39495810e-02],\n",
              "       [ 7.56393519e-01, -2.48648521e-01,  6.82057757e-01,\n",
              "        -2.67073591e-01, -1.89198523e-01, -2.14266339e-01,\n",
              "        -1.83552978e-01, -2.96704403e-01, -1.56761123e-02,\n",
              "        -2.21720951e-02, -1.48887250e-01, -1.60396772e+00,\n",
              "         5.64138891e+00, -6.94073233e-01, -9.29357702e-01,\n",
              "        -1.84266861e-01, -1.12270627e-01, -3.94988966e-01,\n",
              "        -2.71584978e-02, -2.49205051e-01, -1.49799609e-01,\n",
              "        -3.33924471e-01, -3.83269930e-01, -1.74788734e-01,\n",
              "         2.63234131e+00, -3.53439375e-01, -2.58705991e-01,\n",
              "        -2.15933414e-01, -1.65095933e-01, -3.83972255e-01,\n",
              "        -2.09412631e-01, -3.59857936e-01, -7.02699452e-02,\n",
              "        -2.21720951e-02, -3.41598491e-01,  1.70258237e+00,\n",
              "        -8.26928874e-01, -4.25916422e-01, -1.73540821e-01,\n",
              "        -2.29702349e-01, -2.42956167e+00,  3.07629352e+00,\n",
              "        -8.12076031e-02, -1.83552978e-01, -1.01286504e-01,\n",
              "        -7.04329037e-01,  7.04329037e-01,  4.58068107e-01,\n",
              "        -2.24106330e-01,  4.64363306e+00, -1.44572689e-01,\n",
              "         3.40551232e-01, -3.50700933e-02, -1.30994339e-01,\n",
              "        -3.62217217e-02, -2.21720951e-02, -2.02394320e-02,\n",
              "        -3.00273100e-02, -5.20557832e-02, -4.15057050e-02,\n",
              "        -4.96271295e-02, -4.24841860e-02, -3.13637878e-02,\n",
              "        -8.01794739e-02, -3.50700933e-02, -4.79404265e-02,\n",
              "        -5.28407904e-02, -4.05037592e-02, -5.43771905e-02,\n",
              "        -5.94462724e-02, -4.24841860e-02, -4.87909980e-02,\n",
              "        -1.81019568e-02, -6.41210105e-02, -4.52938688e-02,\n",
              "        -1.81019568e-02, -5.66045486e-02, -4.52938688e-02,\n",
              "        -2.02394320e-02, -2.71584978e-02, -2.39495810e-02,\n",
              "        -3.00273100e-02, -5.80425707e-02, -3.13637878e-02,\n",
              "        -2.71584978e-02, -3.38795401e-02, -2.71584978e-02,\n",
              "        -5.87485564e-02, -3.26458035e-02, -2.86287434e-02,\n",
              "        -2.39495810e-02],\n",
              "       [-1.18637903e-01, -2.48648521e-01,  6.82057757e-01,\n",
              "        -2.67073591e-01, -1.89198523e-01, -2.14266339e-01,\n",
              "        -1.83552978e-01, -2.96704403e-01, -1.56761123e-02,\n",
              "        -2.21720951e-02, -6.38675074e-01,  1.92081629e+00,\n",
              "        -1.77261312e-01, -6.94073233e-01,  1.07601196e+00,\n",
              "        -1.84266861e-01, -1.12270627e-01, -3.94988966e-01,\n",
              "        -2.71584978e-02, -2.49205051e-01, -1.49799609e-01,\n",
              "        -3.33924471e-01, -3.83269930e-01, -1.74788734e-01,\n",
              "        -3.79889947e-01, -3.53439375e-01, -2.58705991e-01,\n",
              "        -2.15933414e-01, -1.65095933e-01,  2.60435484e+00,\n",
              "        -2.09412631e-01, -3.59857936e-01, -7.02699452e-02,\n",
              "        -2.21720951e-02, -3.41598491e-01, -5.87343097e-01,\n",
              "         1.20929385e+00, -4.25916422e-01, -1.73540821e-01,\n",
              "        -2.29702349e-01,  4.11596878e-01, -3.25066510e-01,\n",
              "        -8.12076031e-02, -1.83552978e-01, -1.01286504e-01,\n",
              "        -7.04329037e-01,  7.04329037e-01,  1.90713221e+00,\n",
              "        -2.24106330e-01,  3.55698886e-01, -1.44572689e-01,\n",
              "         3.40551232e-01, -3.50700933e-02, -1.30994339e-01,\n",
              "        -3.62217217e-02, -2.21720951e-02, -2.02394320e-02,\n",
              "        -3.00273100e-02, -5.20557832e-02, -4.15057050e-02,\n",
              "        -4.96271295e-02, -4.24841860e-02, -3.13637878e-02,\n",
              "        -8.01794739e-02, -3.50700933e-02, -4.79404265e-02,\n",
              "        -5.28407904e-02, -4.05037592e-02, -5.43771905e-02,\n",
              "        -5.94462724e-02, -4.24841860e-02, -4.87909980e-02,\n",
              "        -1.81019568e-02, -6.41210105e-02, -4.52938688e-02,\n",
              "        -1.81019568e-02, -5.66045486e-02, -4.52938688e-02,\n",
              "        -2.02394320e-02, -2.71584978e-02, -2.39495810e-02,\n",
              "        -3.00273100e-02, -5.80425707e-02, -3.13637878e-02,\n",
              "        -2.71584978e-02, -3.38795401e-02, -2.71584978e-02,\n",
              "        -5.87485564e-02, -3.26458035e-02, -2.86287434e-02,\n",
              "        -2.39495810e-02],\n",
              "       [ 1.73039237e-01,  4.02174120e+00, -1.46615150e+00,\n",
              "        -2.67073591e-01, -1.89198523e-01, -2.14266339e-01,\n",
              "        -1.83552978e-01, -2.96704403e-01, -1.56761123e-02,\n",
              "        -2.21720951e-02, -5.70523995e-01, -4.29039715e-01,\n",
              "        -1.77261312e-01,  1.44077016e+00, -9.29357702e-01,\n",
              "        -1.84266861e-01, -1.12270627e-01, -3.94988966e-01,\n",
              "        -2.71584978e-02,  4.01275976e+00, -1.49799609e-01,\n",
              "        -3.33924471e-01, -3.83269930e-01, -1.74788734e-01,\n",
              "        -3.79889947e-01, -3.53439375e-01, -2.58705991e-01,\n",
              "        -2.15933414e-01, -1.65095933e-01, -3.83972255e-01,\n",
              "        -2.09412631e-01, -3.59857936e-01, -7.02699452e-02,\n",
              "        -2.21720951e-02, -3.41598491e-01, -5.87343097e-01,\n",
              "        -8.26928874e-01,  2.34787847e+00, -1.73540821e-01,\n",
              "        -2.29702349e-01,  4.11596878e-01, -3.25066510e-01,\n",
              "        -8.12076031e-02, -1.83552978e-01, -1.01286504e-01,\n",
              "         1.41979096e+00, -1.41979096e+00, -1.45162197e-01,\n",
              "        -2.24106330e-01, -4.13320558e-02, -1.44572689e-01,\n",
              "         3.40551232e-01, -3.50700933e-02, -1.30994339e-01,\n",
              "        -3.62217217e-02, -2.21720951e-02, -2.02394320e-02,\n",
              "        -3.00273100e-02, -5.20557832e-02, -4.15057050e-02,\n",
              "        -4.96271295e-02, -4.24841860e-02, -3.13637878e-02,\n",
              "        -8.01794739e-02, -3.50700933e-02, -4.79404265e-02,\n",
              "        -5.28407904e-02, -4.05037592e-02, -5.43771905e-02,\n",
              "        -5.94462724e-02, -4.24841860e-02, -4.87909980e-02,\n",
              "        -1.81019568e-02, -6.41210105e-02, -4.52938688e-02,\n",
              "        -1.81019568e-02, -5.66045486e-02, -4.52938688e-02,\n",
              "        -2.02394320e-02, -2.71584978e-02, -2.39495810e-02,\n",
              "        -3.00273100e-02, -5.80425707e-02, -3.13637878e-02,\n",
              "        -2.71584978e-02, -3.38795401e-02, -2.71584978e-02,\n",
              "        -5.87485564e-02, -3.26458035e-02, -2.86287434e-02,\n",
              "        -2.39495810e-02],\n",
              "       [-4.83234329e-01, -2.48648521e-01, -1.46615150e+00,\n",
              "        -2.67073591e-01, -1.89198523e-01, -2.14266339e-01,\n",
              "        -1.83552978e-01,  3.37035781e+00, -1.56761123e-02,\n",
              "        -2.21720951e-02, -7.27967323e-01, -8.20682382e-01,\n",
              "        -1.77261312e-01, -6.94073233e-01,  1.07601196e+00,\n",
              "        -1.84266861e-01, -1.12270627e-01, -3.94988966e-01,\n",
              "        -2.71584978e-02, -2.49205051e-01, -1.49799609e-01,\n",
              "        -3.33924471e-01,  2.60912720e+00, -1.74788734e-01,\n",
              "        -3.79889947e-01, -3.53439375e-01, -2.58705991e-01,\n",
              "        -2.15933414e-01, -1.65095933e-01, -3.83972255e-01,\n",
              "        -2.09412631e-01, -3.59857936e-01, -7.02699452e-02,\n",
              "        -2.21720951e-02, -3.41598491e-01, -5.87343097e-01,\n",
              "         1.20929385e+00, -4.25916422e-01, -1.73540821e-01,\n",
              "        -2.29702349e-01,  4.11596878e-01, -3.25066510e-01,\n",
              "        -8.12076031e-02, -1.83552978e-01, -1.01286504e-01,\n",
              "        -7.04329037e-01,  7.04329037e-01, -1.45162197e-01,\n",
              "        -2.24106330e-01,  2.34085360e+00, -1.44572689e-01,\n",
              "         3.40551232e-01, -3.50700933e-02, -1.30994339e-01,\n",
              "        -3.62217217e-02, -2.21720951e-02, -2.02394320e-02,\n",
              "        -3.00273100e-02, -5.20557832e-02, -4.15057050e-02,\n",
              "        -4.96271295e-02, -4.24841860e-02, -3.13637878e-02,\n",
              "        -8.01794739e-02, -3.50700933e-02, -4.79404265e-02,\n",
              "        -5.28407904e-02, -4.05037592e-02, -5.43771905e-02,\n",
              "        -5.94462724e-02, -4.24841860e-02, -4.87909980e-02,\n",
              "        -1.81019568e-02, -6.41210105e-02, -4.52938688e-02,\n",
              "        -1.81019568e-02, -5.66045486e-02, -4.52938688e-02,\n",
              "        -2.02394320e-02, -2.71584978e-02, -2.39495810e-02,\n",
              "        -3.00273100e-02, -5.80425707e-02, -3.13637878e-02,\n",
              "        -2.71584978e-02, -3.38795401e-02, -2.71584978e-02,\n",
              "        -5.87485564e-02, -3.26458035e-02, -2.86287434e-02,\n",
              "        -2.39495810e-02],\n",
              "       [ 9.75151374e-01, -2.48648521e-01, -1.46615150e+00,\n",
              "        -2.67073591e-01, -1.89198523e-01, -2.14266339e-01,\n",
              "        -1.83552978e-01,  3.37035781e+00, -1.56761123e-02,\n",
              "        -2.21720951e-02, -5.03920293e-01, -4.29039715e-01,\n",
              "        -1.77261312e-01, -6.94073233e-01,  1.07601196e+00,\n",
              "        -1.84266861e-01, -1.12270627e-01, -3.94988966e-01,\n",
              "        -2.71584978e-02, -2.49205051e-01, -1.49799609e-01,\n",
              "        -3.33924471e-01, -3.83269930e-01,  5.72119255e+00,\n",
              "        -3.79889947e-01, -3.53439375e-01, -2.58705991e-01,\n",
              "        -2.15933414e-01, -1.65095933e-01, -3.83972255e-01,\n",
              "        -2.09412631e-01, -3.59857936e-01, -7.02699452e-02,\n",
              "        -2.21720951e-02, -3.41598491e-01, -5.87343097e-01,\n",
              "         1.20929385e+00, -4.25916422e-01, -1.73540821e-01,\n",
              "        -2.29702349e-01,  4.11596878e-01, -3.25066510e-01,\n",
              "        -8.12076031e-02, -1.83552978e-01, -1.01286504e-01,\n",
              "        -7.04329037e-01,  7.04329037e-01, -1.45162197e-01,\n",
              "        -2.24106330e-01,  2.34085360e+00, -1.44572689e-01,\n",
              "         3.40551232e-01, -3.50700933e-02, -1.30994339e-01,\n",
              "        -3.62217217e-02, -2.21720951e-02, -2.02394320e-02,\n",
              "        -3.00273100e-02, -5.20557832e-02, -4.15057050e-02,\n",
              "        -4.96271295e-02, -4.24841860e-02, -3.13637878e-02,\n",
              "        -8.01794739e-02, -3.50700933e-02, -4.79404265e-02,\n",
              "        -5.28407904e-02, -4.05037592e-02, -5.43771905e-02,\n",
              "        -5.94462724e-02, -4.24841860e-02, -4.87909980e-02,\n",
              "        -1.81019568e-02, -6.41210105e-02, -4.52938688e-02,\n",
              "        -1.81019568e-02, -5.66045486e-02, -4.52938688e-02,\n",
              "        -2.02394320e-02, -2.71584978e-02, -2.39495810e-02,\n",
              "        -3.00273100e-02, -5.80425707e-02, -3.13637878e-02,\n",
              "        -2.71584978e-02, -3.38795401e-02, -2.71584978e-02,\n",
              "        -5.87485564e-02, -3.26458035e-02, -2.86287434e-02,\n",
              "        -2.39495810e-02],\n",
              "       [ 2.28769851e+00, -2.48648521e-01,  6.82057757e-01,\n",
              "        -2.67073591e-01, -1.89198523e-01, -2.14266339e-01,\n",
              "        -1.83552978e-01, -2.96704403e-01, -1.56761123e-02,\n",
              "        -2.21720951e-02, -9.35581769e-01, -4.29039715e-01,\n",
              "        -1.77261312e-01, -6.94073233e-01, -9.29357702e-01,\n",
              "         5.42691179e+00, -1.12270627e-01, -3.94988966e-01,\n",
              "        -2.71584978e-02, -2.49205051e-01, -1.49799609e-01,\n",
              "        -3.33924471e-01, -3.83269930e-01, -1.74788734e-01,\n",
              "        -3.79889947e-01, -3.53439375e-01, -2.58705991e-01,\n",
              "        -2.15933414e-01, -1.65095933e-01, -3.83972255e-01,\n",
              "        -2.09412631e-01,  2.77887439e+00, -7.02699452e-02,\n",
              "        -2.21720951e-02,  2.92741340e+00, -5.87343097e-01,\n",
              "        -8.26928874e-01, -4.25916422e-01, -1.73540821e-01,\n",
              "        -2.29702349e-01,  4.11596878e-01, -3.25066510e-01,\n",
              "        -8.12076031e-02, -1.83552978e-01, -1.01286504e-01,\n",
              "         1.41979096e+00, -1.41979096e+00, -1.45162197e-01,\n",
              "        -2.24106330e-01, -2.82054865e+00, -1.44572689e-01,\n",
              "         3.40551232e-01, -3.50700933e-02, -1.30994339e-01,\n",
              "        -3.62217217e-02, -2.21720951e-02, -2.02394320e-02,\n",
              "        -3.00273100e-02, -5.20557832e-02, -4.15057050e-02,\n",
              "        -4.96271295e-02, -4.24841860e-02, -3.13637878e-02,\n",
              "        -8.01794739e-02, -3.50700933e-02, -4.79404265e-02,\n",
              "        -5.28407904e-02, -4.05037592e-02, -5.43771905e-02,\n",
              "        -5.94462724e-02, -4.24841860e-02, -4.87909980e-02,\n",
              "        -1.81019568e-02, -6.41210105e-02, -4.52938688e-02,\n",
              "        -1.81019568e-02, -5.66045486e-02, -4.52938688e-02,\n",
              "        -2.02394320e-02, -2.71584978e-02, -2.39495810e-02,\n",
              "        -3.00273100e-02, -5.80425707e-02, -3.13637878e-02,\n",
              "        -2.71584978e-02, -3.38795401e-02, -2.71584978e-02,\n",
              "        -5.87485564e-02, -3.26458035e-02, -2.86287434e-02,\n",
              "        -2.39495810e-02]])"
            ]
          },
          "metadata": {},
          "execution_count": 22
        }
      ]
    },
    {
      "cell_type": "code",
      "source": [
        "clf_tree.predict(x_test)"
      ],
      "metadata": {
        "colab": {
          "base_uri": "https://localhost:8080/"
        },
        "id": "xnU4jK9SJs0q",
        "outputId": "3f8172b9-582f-44e8-b0d1-a623c1ef83da"
      },
      "execution_count": 23,
      "outputs": [
        {
          "output_type": "execute_result",
          "data": {
            "text/plain": [
              "array(['<=50K', '<=50K', '<=50K', ..., '<=50K', '<=50K', '>50K'],\n",
              "      dtype=object)"
            ]
          },
          "metadata": {},
          "execution_count": 23
        }
      ]
    },
    {
      "cell_type": "markdown",
      "source": [
        "Validando o modelo"
      ],
      "metadata": {
        "id": "-h681KsZLruw"
      }
    },
    {
      "cell_type": "code",
      "source": [
        "acuracy = clf_tree.score(x_test,y_teste)"
      ],
      "metadata": {
        "id": "D4ZrIGdSJyJ3"
      },
      "execution_count": 26,
      "outputs": []
    },
    {
      "cell_type": "code",
      "source": [
        "acuracy"
      ],
      "metadata": {
        "colab": {
          "base_uri": "https://localhost:8080/"
        },
        "id": "4avBrFmULzsB",
        "outputId": "296194ab-bff7-433b-c341-35e2263317a1"
      },
      "execution_count": 27,
      "outputs": [
        {
          "output_type": "execute_result",
          "data": {
            "text/plain": [
              "0.8033740070428302"
            ]
          },
          "metadata": {},
          "execution_count": 27
        }
      ]
    },
    {
      "cell_type": "markdown",
      "source": [
        "Criando Pipeline"
      ],
      "metadata": {
        "id": "hFJ1NPozMnbo"
      }
    },
    {
      "cell_type": "code",
      "source": [
        "pip1 = Pipeline([('ohe',OneHotEncoder()),('scale',StandardScaler()),('clf',tree.DecisionTreeClassifier())])"
      ],
      "metadata": {
        "id": "ZhowxwD4L7GQ"
      },
      "execution_count": 28,
      "outputs": []
    },
    {
      "cell_type": "code",
      "source": [
        "pip1.steps"
      ],
      "metadata": {
        "colab": {
          "base_uri": "https://localhost:8080/"
        },
        "id": "dLOMpfn8NN1N",
        "outputId": "69cf7ccf-4b1e-4bc2-dfa7-2dc01b599e66"
      },
      "execution_count": 31,
      "outputs": [
        {
          "output_type": "execute_result",
          "data": {
            "text/plain": [
              "[('ohe', OneHotEncoder()),\n",
              " ('scale', StandardScaler()),\n",
              " ('clf', DecisionTreeClassifier())]"
            ]
          },
          "metadata": {},
          "execution_count": 31
        }
      ]
    },
    {
      "cell_type": "code",
      "source": [
        "x_train,x_teste,y_train,y_teste = train_test_split(x,y)\n",
        "pip1.fit(x_train,y_train)"
      ],
      "metadata": {
        "colab": {
          "base_uri": "https://localhost:8080/"
        },
        "id": "DmlWQVAwNP6c",
        "outputId": "60195b22-3c15-4d29-baf7-f241e8332898"
      },
      "execution_count": 32,
      "outputs": [
        {
          "output_type": "execute_result",
          "data": {
            "text/plain": [
              "Pipeline(steps=[('ohe',\n",
              "                 OneHotEncoder(cols=['workclass', 'marital-status',\n",
              "                                     'occupation', 'relationship', 'race',\n",
              "                                     'gender', 'native-country'])),\n",
              "                ('scale', StandardScaler()),\n",
              "                ('clf', DecisionTreeClassifier())])"
            ]
          },
          "metadata": {},
          "execution_count": 32
        }
      ]
    },
    {
      "cell_type": "code",
      "source": [
        "acuracia = pip1.score(x_teste,y_teste)"
      ],
      "metadata": {
        "id": "WIZKX-fHOdH6"
      },
      "execution_count": 33,
      "outputs": []
    },
    {
      "cell_type": "code",
      "source": [
        "acuracia"
      ],
      "metadata": {
        "colab": {
          "base_uri": "https://localhost:8080/"
        },
        "id": "qi_YyQorOxi-",
        "outputId": "59c2ada0-61ba-4be9-a7d9-e1c2748fbcc5"
      },
      "execution_count": 34,
      "outputs": [
        {
          "output_type": "execute_result",
          "data": {
            "text/plain": [
              "0.8127098517729916"
            ]
          },
          "metadata": {},
          "execution_count": 34
        }
      ]
    },
    {
      "cell_type": "markdown",
      "source": [
        "Criando outros Pipelines"
      ],
      "metadata": {
        "id": "hwTZ_PchPjNm"
      }
    },
    {
      "cell_type": "code",
      "source": [
        "from sklearn.preprocessing import MinMaxScaler"
      ],
      "metadata": {
        "id": "GEGNOsbqOyZs"
      },
      "execution_count": 35,
      "outputs": []
    },
    {
      "cell_type": "code",
      "source": [
        "pip_minmax = Pipeline([('ohe',OneHotEncoder()),('min_max_scaler',MinMaxScaler()),('clf',tree.DecisionTreeClassifier())])\n",
        "pip_max_depth = Pipeline([('ohe',OneHotEncoder()),('min_max_scaler',MinMaxScaler()),('clf',tree.DecisionTreeClassifier(max_depth=3))])\n",
        "pip_max_depth_std = Pipeline([('ohe',OneHotEncoder()),('standardscaler',StandardScaler()),('clf',tree.DecisionTreeClassifier())])"
      ],
      "metadata": {
        "id": "ZUGnQoaxPpNS"
      },
      "execution_count": 36,
      "outputs": []
    },
    {
      "cell_type": "code",
      "source": [
        "pip_minmax.fit(x_train,y_train)\n",
        "acuracia = pip_minmax.score(x_teste,y_teste)\n",
        "acuracia"
      ],
      "metadata": {
        "colab": {
          "base_uri": "https://localhost:8080/"
        },
        "id": "j9QAQa4pRE58",
        "outputId": "7ed0d1fe-5f02-4c33-9918-cac8d1c3c232"
      },
      "execution_count": 38,
      "outputs": [
        {
          "output_type": "execute_result",
          "data": {
            "text/plain": [
              "0.8099254770289084"
            ]
          },
          "metadata": {},
          "execution_count": 38
        }
      ]
    },
    {
      "cell_type": "code",
      "source": [
        "pip_max_depth.fit(x_train,y_train)\n",
        "acuracia = pip_max_depth.score(x_teste,y_teste)\n",
        "acuracia"
      ],
      "metadata": {
        "colab": {
          "base_uri": "https://localhost:8080/"
        },
        "id": "5IDIdgZgRJvl",
        "outputId": "5079c0e0-5bb3-4081-eba4-ae7833537cae"
      },
      "execution_count": 39,
      "outputs": [
        {
          "output_type": "execute_result",
          "data": {
            "text/plain": [
              "0.8417819998362133"
            ]
          },
          "metadata": {},
          "execution_count": 39
        }
      ]
    },
    {
      "cell_type": "code",
      "source": [
        "pip_max_depth_std.fit(x_train,y_train)\n",
        "acuracia = pip_max_depth_std.score(x_teste,y_teste)\n",
        "acuracia"
      ],
      "metadata": {
        "colab": {
          "base_uri": "https://localhost:8080/"
        },
        "id": "DBNWUEwUR1Gd",
        "outputId": "daf98dc5-21b6-463b-ffeb-d37c30c62dd2"
      },
      "execution_count": 40,
      "outputs": [
        {
          "output_type": "execute_result",
          "data": {
            "text/plain": [
              "0.8103349439030383"
            ]
          },
          "metadata": {},
          "execution_count": 40
        }
      ]
    },
    {
      "cell_type": "markdown",
      "source": [
        "Manipulando colunas distintas"
      ],
      "metadata": {
        "id": "QOYkwLcZTS8C"
      }
    },
    {
      "cell_type": "code",
      "source": [
        "x.head()"
      ],
      "metadata": {
        "colab": {
          "base_uri": "https://localhost:8080/",
          "height": 354
        },
        "id": "x6zUW6ftR8Fi",
        "outputId": "0d40282f-9b88-435b-d985-214945740a88"
      },
      "execution_count": 41,
      "outputs": [
        {
          "output_type": "execute_result",
          "data": {
            "text/plain": [
              "   age  workclass  fnlwgt  educational-num      marital-status  \\\n",
              "0   25    Private  226802                7       Never-married   \n",
              "1   38    Private   89814                9  Married-civ-spouse   \n",
              "2   28  Local-gov  336951               12  Married-civ-spouse   \n",
              "3   44    Private  160323               10  Married-civ-spouse   \n",
              "4   18          ?  103497               10       Never-married   \n",
              "\n",
              "          occupation relationship   race  gender  capital-gain  capital-loss  \\\n",
              "0  Machine-op-inspct    Own-child  Black    Male             0             0   \n",
              "1    Farming-fishing      Husband  White    Male             0             0   \n",
              "2    Protective-serv      Husband  White    Male             0             0   \n",
              "3  Machine-op-inspct      Husband  Black    Male          7688             0   \n",
              "4                  ?    Own-child  White  Female             0             0   \n",
              "\n",
              "   hours-per-week native-country  \n",
              "0              40  United-States  \n",
              "1              50  United-States  \n",
              "2              40  United-States  \n",
              "3              40  United-States  \n",
              "4              30  United-States  "
            ],
            "text/html": [
              "\n",
              "  <div id=\"df-d0c258cd-3766-445a-8465-ffdfb330aed0\">\n",
              "    <div class=\"colab-df-container\">\n",
              "      <div>\n",
              "<style scoped>\n",
              "    .dataframe tbody tr th:only-of-type {\n",
              "        vertical-align: middle;\n",
              "    }\n",
              "\n",
              "    .dataframe tbody tr th {\n",
              "        vertical-align: top;\n",
              "    }\n",
              "\n",
              "    .dataframe thead th {\n",
              "        text-align: right;\n",
              "    }\n",
              "</style>\n",
              "<table border=\"1\" class=\"dataframe\">\n",
              "  <thead>\n",
              "    <tr style=\"text-align: right;\">\n",
              "      <th></th>\n",
              "      <th>age</th>\n",
              "      <th>workclass</th>\n",
              "      <th>fnlwgt</th>\n",
              "      <th>educational-num</th>\n",
              "      <th>marital-status</th>\n",
              "      <th>occupation</th>\n",
              "      <th>relationship</th>\n",
              "      <th>race</th>\n",
              "      <th>gender</th>\n",
              "      <th>capital-gain</th>\n",
              "      <th>capital-loss</th>\n",
              "      <th>hours-per-week</th>\n",
              "      <th>native-country</th>\n",
              "    </tr>\n",
              "  </thead>\n",
              "  <tbody>\n",
              "    <tr>\n",
              "      <th>0</th>\n",
              "      <td>25</td>\n",
              "      <td>Private</td>\n",
              "      <td>226802</td>\n",
              "      <td>7</td>\n",
              "      <td>Never-married</td>\n",
              "      <td>Machine-op-inspct</td>\n",
              "      <td>Own-child</td>\n",
              "      <td>Black</td>\n",
              "      <td>Male</td>\n",
              "      <td>0</td>\n",
              "      <td>0</td>\n",
              "      <td>40</td>\n",
              "      <td>United-States</td>\n",
              "    </tr>\n",
              "    <tr>\n",
              "      <th>1</th>\n",
              "      <td>38</td>\n",
              "      <td>Private</td>\n",
              "      <td>89814</td>\n",
              "      <td>9</td>\n",
              "      <td>Married-civ-spouse</td>\n",
              "      <td>Farming-fishing</td>\n",
              "      <td>Husband</td>\n",
              "      <td>White</td>\n",
              "      <td>Male</td>\n",
              "      <td>0</td>\n",
              "      <td>0</td>\n",
              "      <td>50</td>\n",
              "      <td>United-States</td>\n",
              "    </tr>\n",
              "    <tr>\n",
              "      <th>2</th>\n",
              "      <td>28</td>\n",
              "      <td>Local-gov</td>\n",
              "      <td>336951</td>\n",
              "      <td>12</td>\n",
              "      <td>Married-civ-spouse</td>\n",
              "      <td>Protective-serv</td>\n",
              "      <td>Husband</td>\n",
              "      <td>White</td>\n",
              "      <td>Male</td>\n",
              "      <td>0</td>\n",
              "      <td>0</td>\n",
              "      <td>40</td>\n",
              "      <td>United-States</td>\n",
              "    </tr>\n",
              "    <tr>\n",
              "      <th>3</th>\n",
              "      <td>44</td>\n",
              "      <td>Private</td>\n",
              "      <td>160323</td>\n",
              "      <td>10</td>\n",
              "      <td>Married-civ-spouse</td>\n",
              "      <td>Machine-op-inspct</td>\n",
              "      <td>Husband</td>\n",
              "      <td>Black</td>\n",
              "      <td>Male</td>\n",
              "      <td>7688</td>\n",
              "      <td>0</td>\n",
              "      <td>40</td>\n",
              "      <td>United-States</td>\n",
              "    </tr>\n",
              "    <tr>\n",
              "      <th>4</th>\n",
              "      <td>18</td>\n",
              "      <td>?</td>\n",
              "      <td>103497</td>\n",
              "      <td>10</td>\n",
              "      <td>Never-married</td>\n",
              "      <td>?</td>\n",
              "      <td>Own-child</td>\n",
              "      <td>White</td>\n",
              "      <td>Female</td>\n",
              "      <td>0</td>\n",
              "      <td>0</td>\n",
              "      <td>30</td>\n",
              "      <td>United-States</td>\n",
              "    </tr>\n",
              "  </tbody>\n",
              "</table>\n",
              "</div>\n",
              "      <button class=\"colab-df-convert\" onclick=\"convertToInteractive('df-d0c258cd-3766-445a-8465-ffdfb330aed0')\"\n",
              "              title=\"Convert this dataframe to an interactive table.\"\n",
              "              style=\"display:none;\">\n",
              "        \n",
              "  <svg xmlns=\"http://www.w3.org/2000/svg\" height=\"24px\"viewBox=\"0 0 24 24\"\n",
              "       width=\"24px\">\n",
              "    <path d=\"M0 0h24v24H0V0z\" fill=\"none\"/>\n",
              "    <path d=\"M18.56 5.44l.94 2.06.94-2.06 2.06-.94-2.06-.94-.94-2.06-.94 2.06-2.06.94zm-11 1L8.5 8.5l.94-2.06 2.06-.94-2.06-.94L8.5 2.5l-.94 2.06-2.06.94zm10 10l.94 2.06.94-2.06 2.06-.94-2.06-.94-.94-2.06-.94 2.06-2.06.94z\"/><path d=\"M17.41 7.96l-1.37-1.37c-.4-.4-.92-.59-1.43-.59-.52 0-1.04.2-1.43.59L10.3 9.45l-7.72 7.72c-.78.78-.78 2.05 0 2.83L4 21.41c.39.39.9.59 1.41.59.51 0 1.02-.2 1.41-.59l7.78-7.78 2.81-2.81c.8-.78.8-2.07 0-2.86zM5.41 20L4 18.59l7.72-7.72 1.47 1.35L5.41 20z\"/>\n",
              "  </svg>\n",
              "      </button>\n",
              "      \n",
              "  <style>\n",
              "    .colab-df-container {\n",
              "      display:flex;\n",
              "      flex-wrap:wrap;\n",
              "      gap: 12px;\n",
              "    }\n",
              "\n",
              "    .colab-df-convert {\n",
              "      background-color: #E8F0FE;\n",
              "      border: none;\n",
              "      border-radius: 50%;\n",
              "      cursor: pointer;\n",
              "      display: none;\n",
              "      fill: #1967D2;\n",
              "      height: 32px;\n",
              "      padding: 0 0 0 0;\n",
              "      width: 32px;\n",
              "    }\n",
              "\n",
              "    .colab-df-convert:hover {\n",
              "      background-color: #E2EBFA;\n",
              "      box-shadow: 0px 1px 2px rgba(60, 64, 67, 0.3), 0px 1px 3px 1px rgba(60, 64, 67, 0.15);\n",
              "      fill: #174EA6;\n",
              "    }\n",
              "\n",
              "    [theme=dark] .colab-df-convert {\n",
              "      background-color: #3B4455;\n",
              "      fill: #D2E3FC;\n",
              "    }\n",
              "\n",
              "    [theme=dark] .colab-df-convert:hover {\n",
              "      background-color: #434B5C;\n",
              "      box-shadow: 0px 1px 3px 1px rgba(0, 0, 0, 0.15);\n",
              "      filter: drop-shadow(0px 1px 2px rgba(0, 0, 0, 0.3));\n",
              "      fill: #FFFFFF;\n",
              "    }\n",
              "  </style>\n",
              "\n",
              "      <script>\n",
              "        const buttonEl =\n",
              "          document.querySelector('#df-d0c258cd-3766-445a-8465-ffdfb330aed0 button.colab-df-convert');\n",
              "        buttonEl.style.display =\n",
              "          google.colab.kernel.accessAllowed ? 'block' : 'none';\n",
              "\n",
              "        async function convertToInteractive(key) {\n",
              "          const element = document.querySelector('#df-d0c258cd-3766-445a-8465-ffdfb330aed0');\n",
              "          const dataTable =\n",
              "            await google.colab.kernel.invokeFunction('convertToInteractive',\n",
              "                                                     [key], {});\n",
              "          if (!dataTable) return;\n",
              "\n",
              "          const docLinkHtml = 'Like what you see? Visit the ' +\n",
              "            '<a target=\"_blank\" href=https://colab.research.google.com/notebooks/data_table.ipynb>data table notebook</a>'\n",
              "            + ' to learn more about interactive tables.';\n",
              "          element.innerHTML = '';\n",
              "          dataTable['output_type'] = 'display_data';\n",
              "          await google.colab.output.renderOutput(dataTable, element);\n",
              "          const docLink = document.createElement('div');\n",
              "          docLink.innerHTML = docLinkHtml;\n",
              "          element.appendChild(docLink);\n",
              "        }\n",
              "      </script>\n",
              "    </div>\n",
              "  </div>\n",
              "  "
            ]
          },
          "metadata": {},
          "execution_count": 41
        }
      ]
    },
    {
      "cell_type": "code",
      "source": [
        "from sklearn.compose import ColumnTransformer\n",
        "from sklearn.impute import SimpleImputer"
      ],
      "metadata": {
        "id": "S6qiF9SfTXHW"
      },
      "execution_count": 42,
      "outputs": []
    },
    {
      "cell_type": "markdown",
      "source": [
        "Pipeline com preenchimento pela mediana"
      ],
      "metadata": {
        "id": "U49DAPywVeyP"
      }
    },
    {
      "cell_type": "code",
      "source": [
        "mediana = Pipeline(steps=[('mediana',SimpleImputer(strategy='median'))])"
      ],
      "metadata": {
        "id": "_K_w9p4_U29G"
      },
      "execution_count": 43,
      "outputs": []
    },
    {
      "cell_type": "markdown",
      "source": [
        "Pipeline com preenchimento do mais frequente"
      ],
      "metadata": {
        "id": "CX1kZl_6VssR"
      }
    },
    {
      "cell_type": "code",
      "source": [
        "frequente = Pipeline(steps=[('frequente',SimpleImputer(strategy='most_frequent'))])"
      ],
      "metadata": {
        "id": "cmCkX8P4Vrup"
      },
      "execution_count": 44,
      "outputs": []
    },
    {
      "cell_type": "markdown",
      "source": [
        "Criação do Pipeline completo"
      ],
      "metadata": {
        "id": "3vO29bzcV7Zp"
      }
    },
    {
      "cell_type": "code",
      "source": [
        "data_transformado = ColumnTransformer(transformers=[('mediana',mediana,['educational-num']),('frequent',frequente,['race'])])"
      ],
      "metadata": {
        "id": "yFuvryepV6Wz"
      },
      "execution_count": 52,
      "outputs": []
    },
    {
      "cell_type": "code",
      "source": [
        "pipeline_final = Pipeline([\n",
        "                           ('dataclean',data_transformado),\n",
        "                           ('ohe',OneHotEncoder()),\n",
        "                           ('standardscaler',StandardScaler()),\n",
        "                           ('tree',tree.DecisionTreeClassifier())])"
      ],
      "metadata": {
        "id": "711UBlR7W0JC"
      },
      "execution_count": 53,
      "outputs": []
    },
    {
      "cell_type": "code",
      "source": [
        "pipeline_final.fit(x_train,y_train)"
      ],
      "metadata": {
        "colab": {
          "base_uri": "https://localhost:8080/"
        },
        "id": "3punf3YmX5Fp",
        "outputId": "aaabb4e5-7a21-49f1-b45f-98ef5bf24334"
      },
      "execution_count": 54,
      "outputs": [
        {
          "output_type": "execute_result",
          "data": {
            "text/plain": [
              "Pipeline(steps=[('dataclean',\n",
              "                 ColumnTransformer(transformers=[('mediana',\n",
              "                                                  Pipeline(steps=[('mediana',\n",
              "                                                                   SimpleImputer(strategy='median'))]),\n",
              "                                                  ['educational-num']),\n",
              "                                                 ('frequent',\n",
              "                                                  Pipeline(steps=[('frequente',\n",
              "                                                                   SimpleImputer(strategy='most_frequent'))]),\n",
              "                                                  ['race'])])),\n",
              "                ('ohe', OneHotEncoder(cols=[0, 1])),\n",
              "                ('standardscaler', StandardScaler()),\n",
              "                ('tree', DecisionTreeClassifier())])"
            ]
          },
          "metadata": {},
          "execution_count": 54
        }
      ]
    },
    {
      "cell_type": "code",
      "source": [
        "pipeline_final.predict(x_teste)"
      ],
      "metadata": {
        "colab": {
          "base_uri": "https://localhost:8080/"
        },
        "id": "xjzicBoFX9UY",
        "outputId": "5fa5f48a-26c6-4cb1-fbcc-78afb260bc21"
      },
      "execution_count": 55,
      "outputs": [
        {
          "output_type": "execute_result",
          "data": {
            "text/plain": [
              "array(['<=50K', '<=50K', '<=50K', ..., '<=50K', '<=50K', '<=50K'],\n",
              "      dtype=object)"
            ]
          },
          "metadata": {},
          "execution_count": 55
        }
      ]
    },
    {
      "cell_type": "code",
      "source": [
        "acuracia = pipeline_final.score(x_teste,y_teste)"
      ],
      "metadata": {
        "id": "I2l5RFhaYfg3"
      },
      "execution_count": 56,
      "outputs": []
    },
    {
      "cell_type": "code",
      "source": [
        "acuracia"
      ],
      "metadata": {
        "colab": {
          "base_uri": "https://localhost:8080/"
        },
        "id": "3qAo70WcYkG1",
        "outputId": "779ceac8-d984-4905-e542-28a800b9ef94"
      },
      "execution_count": 57,
      "outputs": [
        {
          "output_type": "execute_result",
          "data": {
            "text/plain": [
              "0.7787241012202113"
            ]
          },
          "metadata": {},
          "execution_count": 57
        }
      ]
    },
    {
      "cell_type": "markdown",
      "source": [
        "GridSearch - otimizando hiperparametros"
      ],
      "metadata": {
        "id": "W5uqGwZJZd-y"
      }
    },
    {
      "cell_type": "code",
      "source": [
        "from sklearn.model_selection import GridSearchCV"
      ],
      "metadata": {
        "id": "qOioJeeKYkz5"
      },
      "execution_count": 58,
      "outputs": []
    },
    {
      "cell_type": "code",
      "source": [
        "parametros_grid = dict(tree__max_depth = [3,4,5,6,7,8,9,10])"
      ],
      "metadata": {
        "id": "AwrMHbkyZlUT"
      },
      "execution_count": 63,
      "outputs": []
    },
    {
      "cell_type": "code",
      "source": [
        "parametros_grid"
      ],
      "metadata": {
        "colab": {
          "base_uri": "https://localhost:8080/"
        },
        "id": "0QoXfFTXZx2s",
        "outputId": "8c76b34d-4e10-48ec-85f9-6b474d42c67e"
      },
      "execution_count": 64,
      "outputs": [
        {
          "output_type": "execute_result",
          "data": {
            "text/plain": [
              "{'tree__max_depth': [3, 4, 5, 6, 7, 8, 9, 10]}"
            ]
          },
          "metadata": {},
          "execution_count": 64
        }
      ]
    },
    {
      "cell_type": "code",
      "source": [
        "grid = GridSearchCV(pipeline_final,param_grid = parametros_grid,cv = 5,scoring = 'accuracy')"
      ],
      "metadata": {
        "id": "2_xPWeM4ZzLx"
      },
      "execution_count": 65,
      "outputs": []
    },
    {
      "cell_type": "code",
      "source": [
        "grid.fit(x,y)"
      ],
      "metadata": {
        "colab": {
          "base_uri": "https://localhost:8080/"
        },
        "id": "SXPsklmQaWSP",
        "outputId": "e732a10f-1548-46db-a89a-1e6b388533b4"
      },
      "execution_count": 66,
      "outputs": [
        {
          "output_type": "execute_result",
          "data": {
            "text/plain": [
              "GridSearchCV(cv=5,\n",
              "             estimator=Pipeline(steps=[('dataclean',\n",
              "                                        ColumnTransformer(transformers=[('mediana',\n",
              "                                                                         Pipeline(steps=[('mediana',\n",
              "                                                                                          SimpleImputer(strategy='median'))]),\n",
              "                                                                         ['educational-num']),\n",
              "                                                                        ('frequent',\n",
              "                                                                         Pipeline(steps=[('frequente',\n",
              "                                                                                          SimpleImputer(strategy='most_frequent'))]),\n",
              "                                                                         ['race'])])),\n",
              "                                       ('ohe', OneHotEncoder(cols=[0, 1])),\n",
              "                                       ('standardscaler', StandardScaler()),\n",
              "                                       ('tree', DecisionTreeClassifier())]),\n",
              "             param_grid={'tree__max_depth': [3, 4, 5, 6, 7, 8, 9, 10]},\n",
              "             scoring='accuracy')"
            ]
          },
          "metadata": {},
          "execution_count": 66
        }
      ]
    },
    {
      "cell_type": "code",
      "source": [
        "grid.cv_results_"
      ],
      "metadata": {
        "colab": {
          "base_uri": "https://localhost:8080/"
        },
        "id": "1wuItK6zaY2c",
        "outputId": "d801a954-39c5-43d6-d905-dab7ba5674b2"
      },
      "execution_count": 67,
      "outputs": [
        {
          "output_type": "execute_result",
          "data": {
            "text/plain": [
              "{'mean_fit_time': array([0.22992783, 0.22611675, 0.22776408, 0.22633324, 0.22945724,\n",
              "        0.23091564, 0.23290191, 0.23190346]),\n",
              " 'mean_score_time': array([0.044453  , 0.04357328, 0.04233437, 0.04266052, 0.04381428,\n",
              "        0.04192839, 0.04192233, 0.0428597 ]),\n",
              " 'mean_test_score': array([0.77488643, 0.78031213, 0.78031213, 0.78029166, 0.78029166,\n",
              "        0.78029166, 0.78023023, 0.78023023]),\n",
              " 'param_tree__max_depth': masked_array(data=[3, 4, 5, 6, 7, 8, 9, 10],\n",
              "              mask=[False, False, False, False, False, False, False, False],\n",
              "        fill_value='?',\n",
              "             dtype=object),\n",
              " 'params': [{'tree__max_depth': 3},\n",
              "  {'tree__max_depth': 4},\n",
              "  {'tree__max_depth': 5},\n",
              "  {'tree__max_depth': 6},\n",
              "  {'tree__max_depth': 7},\n",
              "  {'tree__max_depth': 8},\n",
              "  {'tree__max_depth': 9},\n",
              "  {'tree__max_depth': 10}],\n",
              " 'rank_test_score': array([8, 1, 1, 3, 3, 3, 6, 6], dtype=int32),\n",
              " 'split0_test_score': array([0.77612857, 0.78042788, 0.78042788, 0.78032552, 0.78032552,\n",
              "        0.78032552, 0.78032552, 0.78032552]),\n",
              " 'split1_test_score': array([0.77039615, 0.77500256, 0.77500256, 0.77500256, 0.77500256,\n",
              "        0.77500256, 0.77500256, 0.77500256]),\n",
              " 'split2_test_score': array([0.77825553, 0.78490991, 0.78490991, 0.78490991, 0.78490991,\n",
              "        0.78490991, 0.78460278, 0.78460278]),\n",
              " 'split3_test_score': array([0.7742629 , 0.77938165, 0.77938165, 0.77938165, 0.77948403,\n",
              "        0.77948403, 0.77948403, 0.77948403]),\n",
              " 'split4_test_score': array([0.77538903, 0.78183866, 0.78183866, 0.78183866, 0.78173628,\n",
              "        0.78173628, 0.78173628, 0.78173628]),\n",
              " 'std_fit_time': array([0.00892332, 0.00528493, 0.00413115, 0.00522282, 0.00642883,\n",
              "        0.00454471, 0.00582362, 0.00588909]),\n",
              " 'std_score_time': array([0.00280948, 0.00328822, 0.00137076, 0.00187942, 0.00347408,\n",
              "        0.00074966, 0.00065716, 0.00115009]),\n",
              " 'std_test_score': array([0.00259606, 0.00324162, 0.00324162, 0.00324115, 0.00322624,\n",
              "        0.00322624, 0.00313949, 0.00313949])}"
            ]
          },
          "metadata": {},
          "execution_count": 67
        }
      ]
    },
    {
      "cell_type": "code",
      "source": [
        "grid.best_params_"
      ],
      "metadata": {
        "colab": {
          "base_uri": "https://localhost:8080/"
        },
        "id": "MTri1wtdakzT",
        "outputId": "f5187193-d6af-4076-bf28-1114884ae4a3"
      },
      "execution_count": 68,
      "outputs": [
        {
          "output_type": "execute_result",
          "data": {
            "text/plain": [
              "{'tree__max_depth': 4}"
            ]
          },
          "metadata": {},
          "execution_count": 68
        }
      ]
    },
    {
      "cell_type": "code",
      "source": [
        "grid.best_score_"
      ],
      "metadata": {
        "colab": {
          "base_uri": "https://localhost:8080/"
        },
        "id": "_-PWboVoaqar",
        "outputId": "a2019d64-f81a-485e-d174-119992bfa7eb"
      },
      "execution_count": 69,
      "outputs": [
        {
          "output_type": "execute_result",
          "data": {
            "text/plain": [
              "0.7803121328738076"
            ]
          },
          "metadata": {},
          "execution_count": 69
        }
      ]
    }
  ]
}